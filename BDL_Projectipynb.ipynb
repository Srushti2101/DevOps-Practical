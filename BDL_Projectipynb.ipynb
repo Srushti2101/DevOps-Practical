{
  "nbformat": 4,
  "nbformat_minor": 0,
  "metadata": {
    "colab": {
      "name": "BDL Projectipynb",
      "provenance": [],
      "collapsed_sections": [],
      "authorship_tag": "ABX9TyOSBZc5FWG2x98SXCdRgTH6",
      "include_colab_link": true
    },
    "kernelspec": {
      "name": "python3",
      "display_name": "Python 3"
    },
    "language_info": {
      "name": "python"
    }
  },
  "cells": [
    {
      "cell_type": "markdown",
      "metadata": {
        "id": "view-in-github",
        "colab_type": "text"
      },
      "source": [
        "<a href=\"https://colab.research.google.com/github/Srushti2101/DevOps-Practical/blob/master/BDL_Projectipynb.ipynb\" target=\"_parent\"><img src=\"https://colab.research.google.com/assets/colab-badge.svg\" alt=\"Open In Colab\"/></a>"
      ]
    },
    {
      "cell_type": "markdown",
      "metadata": {
        "id": "7vyVy6Xc4Wos"
      },
      "source": [
        "#**BOOK & MOVIE ANALYSIS (BIG DATA ANALYTICS)**\n",
        "\n"
      ]
    },
    {
      "cell_type": "markdown",
      "metadata": {
        "id": "Ct_-LyIP9PsA"
      },
      "source": [
        "When big data first hit the scene around 2010, it effectively changed the methods used to turn data analytics into useful insight and profit. Big data is often externally sourced, using information drawn from the internet, public data sources, and more to make more accurate predictions. In the entertainment industry, big data can be used to provide a personalized user experience and reduce churn rates among streaming site audiences.\n",
        "\n",
        "With a seemingly endless array of movies and books for users to choose from, retaining viewers is of paramount importance to streaming services and film production companies. A high churn rate indicates that a company is doing something wrong, and when combined with machine learning, big data can help companies identify problem areas."
      ]
    },
    {
      "cell_type": "markdown",
      "metadata": {
        "id": "jgXUKuim_FYW"
      },
      "source": [
        "## **Dataset 1:**  \n",
        "IMDb movies is data pulled from popular movie review and reccomendation site IMDb. Each entry in this dataset is a unique movie, and contains information like budget, revenue, votes, and language, etc.\n",
        "\n"
      ]
    },
    {
      "cell_type": "markdown",
      "metadata": {
        "id": "HcHoDiND-0O6"
      },
      "source": [
        "## **Dataset 2:** \n",
        "Goodreads-books is data pulled from popular book review and reccomendation site Goodreads. Each entry in this dataset is a unique book, and contains information like author, pages, average rating, and number of reviews. "
      ]
    },
    {
      "cell_type": "markdown",
      "metadata": {
        "id": "MCU27hnUARLK"
      },
      "source": [
        "## **Goal**\n",
        "The goal of this project is to do exploratory analyses on these datasets, combine them, and look at entries occurring in both datasets."
      ]
    },
    {
      "cell_type": "markdown",
      "metadata": {
        "id": "0aU8uLUo3YHG"
      },
      "source": [
        "Import from Google Drive"
      ]
    },
    {
      "cell_type": "code",
      "metadata": {
        "colab": {
          "base_uri": "https://localhost:8080/",
          "height": 0
        },
        "id": "5eYXDJhwyMGX",
        "outputId": "ba71c0e7-4381-448d-e54c-d5082a2b17a9"
      },
      "source": [
        "from google.colab import drive\n",
        "drive.mount(\"/content/gdrive\")"
      ],
      "execution_count": 2,
      "outputs": [
        {
          "output_type": "stream",
          "text": [
            "Mounted at /content/gdrive\n"
          ],
          "name": "stdout"
        }
      ]
    },
    {
      "cell_type": "markdown",
      "metadata": {
        "id": "INXR8NVd4cvp"
      },
      "source": [
        "Import and Setup Pandas"
      ]
    },
    {
      "cell_type": "code",
      "metadata": {
        "id": "Qvi64h3NymnH"
      },
      "source": [
        "import pandas as pd"
      ],
      "execution_count": 3,
      "outputs": []
    },
    {
      "cell_type": "markdown",
      "metadata": {
        "id": "0wglWNHn5HEa"
      },
      "source": [
        "Import IMDb movies dataset .csv file from Google Drive and read values into DataFrame"
      ]
    },
    {
      "cell_type": "code",
      "metadata": {
        "id": "ocyG5wYOysxn"
      },
      "source": [
        "movies = pd.read_csv(\"/content/gdrive/My Drive/BDL/IMDb.csv\")\n"
      ],
      "execution_count": 4,
      "outputs": []
    },
    {
      "cell_type": "markdown",
      "metadata": {
        "id": "37A3zxF6M0gM"
      },
      "source": [
        "Import Goodreads books dataset .csv file from Link and read values into DataFrame"
      ]
    },
    {
      "cell_type": "code",
      "metadata": {
        "id": "9KECI2V3c49r"
      },
      "source": [
        "import os\n",
        "import pandas as pd\n",
        "import matplotlib.pyplot as plt\n",
        "import seaborn as sns\n",
        "import numpy as np"
      ],
      "execution_count": 23,
      "outputs": []
    },
    {
      "cell_type": "code",
      "metadata": {
        "colab": {
          "base_uri": "https://localhost:8080/",
          "height": 0
        },
        "id": "WJizIAtvMYBW",
        "outputId": "f5ef1c71-86be-4e6b-a701-80ea132b6902"
      },
      "source": [
        "bookpath = 'https://raw.githubusercontent.com/noahjett/Movie-Goodreads-Analysis/master/books.csv'\n",
        "\n",
        "if not os.path.exists(\"/content/books.csv\"):\n",
        "  books = pd.read_csv(bookpath, error_bad_lines=False)"
      ],
      "execution_count": 16,
      "outputs": [
        {
          "output_type": "stream",
          "text": [
            "b'Skipping line 4012: expected 10 fields, saw 11\\nSkipping line 5688: expected 10 fields, saw 11\\nSkipping line 7056: expected 10 fields, saw 11\\nSkipping line 10601: expected 10 fields, saw 11\\nSkipping line 10668: expected 10 fields, saw 11\\n'\n"
          ],
          "name": "stderr"
        }
      ]
    },
    {
      "cell_type": "markdown",
      "metadata": {
        "id": "e0wxGmU56hEQ"
      },
      "source": [
        "Returns rows from Movies DataFrame"
      ]
    },
    {
      "cell_type": "code",
      "metadata": {
        "colab": {
          "base_uri": "https://localhost:8080/",
          "height": 1289
        },
        "id": "PZm1iwLn0BzG",
        "outputId": "7d20fdef-7bb0-417b-f751-52d6d3155d4f"
      },
      "source": [
        "movies.head(100)"
      ],
      "execution_count": 5,
      "outputs": [
        {
          "output_type": "execute_result",
          "data": {
            "text/html": [
              "<div>\n",
              "<style scoped>\n",
              "    .dataframe tbody tr th:only-of-type {\n",
              "        vertical-align: middle;\n",
              "    }\n",
              "\n",
              "    .dataframe tbody tr th {\n",
              "        vertical-align: top;\n",
              "    }\n",
              "\n",
              "    .dataframe thead th {\n",
              "        text-align: right;\n",
              "    }\n",
              "</style>\n",
              "<table border=\"1\" class=\"dataframe\">\n",
              "  <thead>\n",
              "    <tr style=\"text-align: right;\">\n",
              "      <th></th>\n",
              "      <th>budget</th>\n",
              "      <th>genres</th>\n",
              "      <th>homepage</th>\n",
              "      <th>id</th>\n",
              "      <th>keywords</th>\n",
              "      <th>original_language</th>\n",
              "      <th>original_title</th>\n",
              "      <th>overview</th>\n",
              "      <th>popularity</th>\n",
              "      <th>production_companies</th>\n",
              "      <th>production_countries</th>\n",
              "      <th>release_date</th>\n",
              "      <th>revenue</th>\n",
              "      <th>runtime</th>\n",
              "      <th>spoken_languages</th>\n",
              "      <th>status</th>\n",
              "      <th>tagline</th>\n",
              "      <th>title</th>\n",
              "      <th>vote_average</th>\n",
              "      <th>vote_count</th>\n",
              "    </tr>\n",
              "  </thead>\n",
              "  <tbody>\n",
              "    <tr>\n",
              "      <th>0</th>\n",
              "      <td>237000000</td>\n",
              "      <td>[{\"id\": 28, \"name\": \"Action\"}, {\"id\": 12, \"nam...</td>\n",
              "      <td>http://www.avatarmovie.com/</td>\n",
              "      <td>19995</td>\n",
              "      <td>[{\"id\": 1463, \"name\": \"culture clash\"}, {\"id\":...</td>\n",
              "      <td>en</td>\n",
              "      <td>Avatar</td>\n",
              "      <td>In the 22nd century, a paraplegic Marine is di...</td>\n",
              "      <td>150.437577</td>\n",
              "      <td>[{\"name\": \"Ingenious Film Partners\", \"id\": 289...</td>\n",
              "      <td>[{\"iso_3166_1\": \"US\", \"name\": \"United States o...</td>\n",
              "      <td>2009-12-10</td>\n",
              "      <td>2787965087</td>\n",
              "      <td>162.0</td>\n",
              "      <td>[{\"iso_639_1\": \"en\", \"name\": \"English\"}, {\"iso...</td>\n",
              "      <td>Released</td>\n",
              "      <td>Enter the World of Pandora.</td>\n",
              "      <td>Avatar</td>\n",
              "      <td>7.2</td>\n",
              "      <td>11800</td>\n",
              "    </tr>\n",
              "    <tr>\n",
              "      <th>1</th>\n",
              "      <td>300000000</td>\n",
              "      <td>[{\"id\": 12, \"name\": \"Adventure\"}, {\"id\": 14, \"...</td>\n",
              "      <td>http://disney.go.com/disneypictures/pirates/</td>\n",
              "      <td>285</td>\n",
              "      <td>[{\"id\": 270, \"name\": \"ocean\"}, {\"id\": 726, \"na...</td>\n",
              "      <td>en</td>\n",
              "      <td>Pirates of the Caribbean: At World's End</td>\n",
              "      <td>Captain Barbossa, long believed to be dead, ha...</td>\n",
              "      <td>139.082615</td>\n",
              "      <td>[{\"name\": \"Walt Disney Pictures\", \"id\": 2}, {\"...</td>\n",
              "      <td>[{\"iso_3166_1\": \"US\", \"name\": \"United States o...</td>\n",
              "      <td>2007-05-19</td>\n",
              "      <td>961000000</td>\n",
              "      <td>169.0</td>\n",
              "      <td>[{\"iso_639_1\": \"en\", \"name\": \"English\"}]</td>\n",
              "      <td>Released</td>\n",
              "      <td>At the end of the world, the adventure begins.</td>\n",
              "      <td>Pirates of the Caribbean: At World's End</td>\n",
              "      <td>6.9</td>\n",
              "      <td>4500</td>\n",
              "    </tr>\n",
              "    <tr>\n",
              "      <th>2</th>\n",
              "      <td>245000000</td>\n",
              "      <td>[{\"id\": 28, \"name\": \"Action\"}, {\"id\": 12, \"nam...</td>\n",
              "      <td>http://www.sonypictures.com/movies/spectre/</td>\n",
              "      <td>206647</td>\n",
              "      <td>[{\"id\": 470, \"name\": \"spy\"}, {\"id\": 818, \"name...</td>\n",
              "      <td>en</td>\n",
              "      <td>Spectre</td>\n",
              "      <td>A cryptic message from Bond’s past sends him o...</td>\n",
              "      <td>107.376788</td>\n",
              "      <td>[{\"name\": \"Columbia Pictures\", \"id\": 5}, {\"nam...</td>\n",
              "      <td>[{\"iso_3166_1\": \"GB\", \"name\": \"United Kingdom\"...</td>\n",
              "      <td>2015-10-26</td>\n",
              "      <td>880674609</td>\n",
              "      <td>148.0</td>\n",
              "      <td>[{\"iso_639_1\": \"fr\", \"name\": \"Fran\\u00e7ais\"},...</td>\n",
              "      <td>Released</td>\n",
              "      <td>A Plan No One Escapes</td>\n",
              "      <td>Spectre</td>\n",
              "      <td>6.3</td>\n",
              "      <td>4466</td>\n",
              "    </tr>\n",
              "    <tr>\n",
              "      <th>3</th>\n",
              "      <td>250000000</td>\n",
              "      <td>[{\"id\": 28, \"name\": \"Action\"}, {\"id\": 80, \"nam...</td>\n",
              "      <td>http://www.thedarkknightrises.com/</td>\n",
              "      <td>49026</td>\n",
              "      <td>[{\"id\": 849, \"name\": \"dc comics\"}, {\"id\": 853,...</td>\n",
              "      <td>en</td>\n",
              "      <td>The Dark Knight Rises</td>\n",
              "      <td>Following the death of District Attorney Harve...</td>\n",
              "      <td>112.312950</td>\n",
              "      <td>[{\"name\": \"Legendary Pictures\", \"id\": 923}, {\"...</td>\n",
              "      <td>[{\"iso_3166_1\": \"US\", \"name\": \"United States o...</td>\n",
              "      <td>2012-07-16</td>\n",
              "      <td>1084939099</td>\n",
              "      <td>165.0</td>\n",
              "      <td>[{\"iso_639_1\": \"en\", \"name\": \"English\"}]</td>\n",
              "      <td>Released</td>\n",
              "      <td>The Legend Ends</td>\n",
              "      <td>The Dark Knight Rises</td>\n",
              "      <td>7.6</td>\n",
              "      <td>9106</td>\n",
              "    </tr>\n",
              "    <tr>\n",
              "      <th>4</th>\n",
              "      <td>260000000</td>\n",
              "      <td>[{\"id\": 28, \"name\": \"Action\"}, {\"id\": 12, \"nam...</td>\n",
              "      <td>http://movies.disney.com/john-carter</td>\n",
              "      <td>49529</td>\n",
              "      <td>[{\"id\": 818, \"name\": \"based on novel\"}, {\"id\":...</td>\n",
              "      <td>en</td>\n",
              "      <td>John Carter</td>\n",
              "      <td>John Carter is a war-weary, former military ca...</td>\n",
              "      <td>43.926995</td>\n",
              "      <td>[{\"name\": \"Walt Disney Pictures\", \"id\": 2}]</td>\n",
              "      <td>[{\"iso_3166_1\": \"US\", \"name\": \"United States o...</td>\n",
              "      <td>2012-03-07</td>\n",
              "      <td>284139100</td>\n",
              "      <td>132.0</td>\n",
              "      <td>[{\"iso_639_1\": \"en\", \"name\": \"English\"}]</td>\n",
              "      <td>Released</td>\n",
              "      <td>Lost in our world, found in another.</td>\n",
              "      <td>John Carter</td>\n",
              "      <td>6.1</td>\n",
              "      <td>2124</td>\n",
              "    </tr>\n",
              "    <tr>\n",
              "      <th>...</th>\n",
              "      <td>...</td>\n",
              "      <td>...</td>\n",
              "      <td>...</td>\n",
              "      <td>...</td>\n",
              "      <td>...</td>\n",
              "      <td>...</td>\n",
              "      <td>...</td>\n",
              "      <td>...</td>\n",
              "      <td>...</td>\n",
              "      <td>...</td>\n",
              "      <td>...</td>\n",
              "      <td>...</td>\n",
              "      <td>...</td>\n",
              "      <td>...</td>\n",
              "      <td>...</td>\n",
              "      <td>...</td>\n",
              "      <td>...</td>\n",
              "      <td>...</td>\n",
              "      <td>...</td>\n",
              "      <td>...</td>\n",
              "    </tr>\n",
              "    <tr>\n",
              "      <th>95</th>\n",
              "      <td>165000000</td>\n",
              "      <td>[{\"id\": 12, \"name\": \"Adventure\"}, {\"id\": 18, \"...</td>\n",
              "      <td>http://www.interstellarmovie.net/</td>\n",
              "      <td>157336</td>\n",
              "      <td>[{\"id\": 83, \"name\": \"saving the world\"}, {\"id\"...</td>\n",
              "      <td>en</td>\n",
              "      <td>Interstellar</td>\n",
              "      <td>Interstellar chronicles the adventures of a gr...</td>\n",
              "      <td>724.247784</td>\n",
              "      <td>[{\"name\": \"Paramount Pictures\", \"id\": 4}, {\"na...</td>\n",
              "      <td>[{\"iso_3166_1\": \"CA\", \"name\": \"Canada\"}, {\"iso...</td>\n",
              "      <td>2014-11-05</td>\n",
              "      <td>675120017</td>\n",
              "      <td>169.0</td>\n",
              "      <td>[{\"iso_639_1\": \"en\", \"name\": \"English\"}]</td>\n",
              "      <td>Released</td>\n",
              "      <td>Mankind was born on Earth. It was never meant ...</td>\n",
              "      <td>Interstellar</td>\n",
              "      <td>8.1</td>\n",
              "      <td>10867</td>\n",
              "    </tr>\n",
              "    <tr>\n",
              "      <th>96</th>\n",
              "      <td>160000000</td>\n",
              "      <td>[{\"id\": 28, \"name\": \"Action\"}, {\"id\": 53, \"nam...</td>\n",
              "      <td>http://inceptionmovie.warnerbros.com/</td>\n",
              "      <td>27205</td>\n",
              "      <td>[{\"id\": 1014, \"name\": \"loss of lover\"}, {\"id\":...</td>\n",
              "      <td>en</td>\n",
              "      <td>Inception</td>\n",
              "      <td>Cobb, a skilled thief who commits corporate es...</td>\n",
              "      <td>167.583710</td>\n",
              "      <td>[{\"name\": \"Legendary Pictures\", \"id\": 923}, {\"...</td>\n",
              "      <td>[{\"iso_3166_1\": \"GB\", \"name\": \"United Kingdom\"...</td>\n",
              "      <td>2010-07-14</td>\n",
              "      <td>825532764</td>\n",
              "      <td>148.0</td>\n",
              "      <td>[{\"iso_639_1\": \"en\", \"name\": \"English\"}, {\"iso...</td>\n",
              "      <td>Released</td>\n",
              "      <td>Your mind is the scene of the crime.</td>\n",
              "      <td>Inception</td>\n",
              "      <td>8.1</td>\n",
              "      <td>13752</td>\n",
              "    </tr>\n",
              "    <tr>\n",
              "      <th>97</th>\n",
              "      <td>15000000</td>\n",
              "      <td>[{\"id\": 28, \"name\": \"Action\"}, {\"id\": 12, \"nam...</td>\n",
              "      <td>NaN</td>\n",
              "      <td>315011</td>\n",
              "      <td>[{\"id\": 1299, \"name\": \"monster\"}, {\"id\": 7671,...</td>\n",
              "      <td>ja</td>\n",
              "      <td>シン・ゴジラ</td>\n",
              "      <td>From the mind behind Evangelion comes a hit la...</td>\n",
              "      <td>9.476999</td>\n",
              "      <td>[{\"name\": \"Cine Bazar\", \"id\": 5896}, {\"name\": ...</td>\n",
              "      <td>[{\"iso_3166_1\": \"JP\", \"name\": \"Japan\"}]</td>\n",
              "      <td>2016-07-29</td>\n",
              "      <td>77000000</td>\n",
              "      <td>120.0</td>\n",
              "      <td>[{\"iso_639_1\": \"it\", \"name\": \"Italiano\"}, {\"is...</td>\n",
              "      <td>Released</td>\n",
              "      <td>A god incarnate. A city doomed.</td>\n",
              "      <td>Shin Godzilla</td>\n",
              "      <td>6.5</td>\n",
              "      <td>143</td>\n",
              "    </tr>\n",
              "    <tr>\n",
              "      <th>98</th>\n",
              "      <td>250000000</td>\n",
              "      <td>[{\"id\": 12, \"name\": \"Adventure\"}, {\"id\": 14, \"...</td>\n",
              "      <td>http://www.thehobbit.com/</td>\n",
              "      <td>49051</td>\n",
              "      <td>[{\"id\": 483, \"name\": \"riddle\"}, {\"id\": 603, \"n...</td>\n",
              "      <td>en</td>\n",
              "      <td>The Hobbit: An Unexpected Journey</td>\n",
              "      <td>Bilbo Baggins, a hobbit enjoying his quiet lif...</td>\n",
              "      <td>108.849621</td>\n",
              "      <td>[{\"name\": \"WingNut Films\", \"id\": 11}, {\"name\":...</td>\n",
              "      <td>[{\"iso_3166_1\": \"NZ\", \"name\": \"New Zealand\"}, ...</td>\n",
              "      <td>2012-11-26</td>\n",
              "      <td>1021103568</td>\n",
              "      <td>169.0</td>\n",
              "      <td>[{\"iso_639_1\": \"en\", \"name\": \"English\"}]</td>\n",
              "      <td>Released</td>\n",
              "      <td>From the smallest beginnings come the greatest...</td>\n",
              "      <td>The Hobbit: An Unexpected Journey</td>\n",
              "      <td>7.0</td>\n",
              "      <td>8297</td>\n",
              "    </tr>\n",
              "    <tr>\n",
              "      <th>99</th>\n",
              "      <td>38000000</td>\n",
              "      <td>[{\"id\": 28, \"name\": \"Action\"}, {\"id\": 80, \"nam...</td>\n",
              "      <td>NaN</td>\n",
              "      <td>9799</td>\n",
              "      <td>[{\"id\": 542, \"name\": \"street gang\"}, {\"id\": 83...</td>\n",
              "      <td>en</td>\n",
              "      <td>The Fast and the Furious</td>\n",
              "      <td>Domenic Toretto is a Los Angeles street racer ...</td>\n",
              "      <td>6.909942</td>\n",
              "      <td>[{\"name\": \"Universal Pictures\", \"id\": 33}, {\"n...</td>\n",
              "      <td>[{\"iso_3166_1\": \"DE\", \"name\": \"Germany\"}, {\"is...</td>\n",
              "      <td>2001-06-22</td>\n",
              "      <td>207283925</td>\n",
              "      <td>106.0</td>\n",
              "      <td>[{\"iso_639_1\": \"en\", \"name\": \"English\"}]</td>\n",
              "      <td>Released</td>\n",
              "      <td>Live life 1/4 mile at a time.</td>\n",
              "      <td>The Fast and the Furious</td>\n",
              "      <td>6.6</td>\n",
              "      <td>3428</td>\n",
              "    </tr>\n",
              "  </tbody>\n",
              "</table>\n",
              "<p>100 rows × 20 columns</p>\n",
              "</div>"
            ],
            "text/plain": [
              "       budget  ... vote_count\n",
              "0   237000000  ...      11800\n",
              "1   300000000  ...       4500\n",
              "2   245000000  ...       4466\n",
              "3   250000000  ...       9106\n",
              "4   260000000  ...       2124\n",
              "..        ...  ...        ...\n",
              "95  165000000  ...      10867\n",
              "96  160000000  ...      13752\n",
              "97   15000000  ...        143\n",
              "98  250000000  ...       8297\n",
              "99   38000000  ...       3428\n",
              "\n",
              "[100 rows x 20 columns]"
            ]
          },
          "metadata": {
            "tags": []
          },
          "execution_count": 5
        }
      ]
    },
    {
      "cell_type": "markdown",
      "metadata": {
        "id": "BWMP-rts1bOD"
      },
      "source": [
        "Return Missing Values"
      ]
    },
    {
      "cell_type": "code",
      "metadata": {
        "colab": {
          "base_uri": "https://localhost:8080/",
          "height": 0
        },
        "id": "SaQTZqWZ0e2p",
        "outputId": "a70e8f3a-3db7-4b53-b72f-291ac43b03cc"
      },
      "source": [
        "movies.isna().sum()\n"
      ],
      "execution_count": 6,
      "outputs": [
        {
          "output_type": "execute_result",
          "data": {
            "text/plain": [
              "budget                     0\n",
              "genres                     0\n",
              "homepage                3091\n",
              "id                         0\n",
              "keywords                   0\n",
              "original_language          0\n",
              "original_title             0\n",
              "overview                   3\n",
              "popularity                 0\n",
              "production_companies       0\n",
              "production_countries       0\n",
              "release_date               1\n",
              "revenue                    0\n",
              "runtime                    2\n",
              "spoken_languages           0\n",
              "status                     0\n",
              "tagline                  844\n",
              "title                      0\n",
              "vote_average               0\n",
              "vote_count                 0\n",
              "dtype: int64"
            ]
          },
          "metadata": {
            "tags": []
          },
          "execution_count": 6
        }
      ]
    },
    {
      "cell_type": "markdown",
      "metadata": {
        "id": "AovSsZhe8by0"
      },
      "source": [
        "View Statistical Details"
      ]
    },
    {
      "cell_type": "code",
      "metadata": {
        "colab": {
          "base_uri": "https://localhost:8080/",
          "height": 266
        },
        "id": "gSWSarGd1dON",
        "outputId": "0c5deb53-837e-430c-f8b7-05733b06ac65"
      },
      "source": [
        "movies.describe().T"
      ],
      "execution_count": 8,
      "outputs": [
        {
          "output_type": "execute_result",
          "data": {
            "text/html": [
              "<div>\n",
              "<style scoped>\n",
              "    .dataframe tbody tr th:only-of-type {\n",
              "        vertical-align: middle;\n",
              "    }\n",
              "\n",
              "    .dataframe tbody tr th {\n",
              "        vertical-align: top;\n",
              "    }\n",
              "\n",
              "    .dataframe thead th {\n",
              "        text-align: right;\n",
              "    }\n",
              "</style>\n",
              "<table border=\"1\" class=\"dataframe\">\n",
              "  <thead>\n",
              "    <tr style=\"text-align: right;\">\n",
              "      <th></th>\n",
              "      <th>count</th>\n",
              "      <th>mean</th>\n",
              "      <th>std</th>\n",
              "      <th>min</th>\n",
              "      <th>25%</th>\n",
              "      <th>50%</th>\n",
              "      <th>75%</th>\n",
              "      <th>max</th>\n",
              "    </tr>\n",
              "  </thead>\n",
              "  <tbody>\n",
              "    <tr>\n",
              "      <th>budget</th>\n",
              "      <td>4803.0</td>\n",
              "      <td>2.904504e+07</td>\n",
              "      <td>4.072239e+07</td>\n",
              "      <td>0.0</td>\n",
              "      <td>790000.00000</td>\n",
              "      <td>1.500000e+07</td>\n",
              "      <td>4.000000e+07</td>\n",
              "      <td>3.800000e+08</td>\n",
              "    </tr>\n",
              "    <tr>\n",
              "      <th>id</th>\n",
              "      <td>4803.0</td>\n",
              "      <td>5.716548e+04</td>\n",
              "      <td>8.869461e+04</td>\n",
              "      <td>5.0</td>\n",
              "      <td>9014.50000</td>\n",
              "      <td>1.462900e+04</td>\n",
              "      <td>5.861050e+04</td>\n",
              "      <td>4.594880e+05</td>\n",
              "    </tr>\n",
              "    <tr>\n",
              "      <th>popularity</th>\n",
              "      <td>4803.0</td>\n",
              "      <td>2.149230e+01</td>\n",
              "      <td>3.181665e+01</td>\n",
              "      <td>0.0</td>\n",
              "      <td>4.66807</td>\n",
              "      <td>1.292159e+01</td>\n",
              "      <td>2.831350e+01</td>\n",
              "      <td>8.755813e+02</td>\n",
              "    </tr>\n",
              "    <tr>\n",
              "      <th>revenue</th>\n",
              "      <td>4803.0</td>\n",
              "      <td>8.226064e+07</td>\n",
              "      <td>1.628571e+08</td>\n",
              "      <td>0.0</td>\n",
              "      <td>0.00000</td>\n",
              "      <td>1.917000e+07</td>\n",
              "      <td>9.291719e+07</td>\n",
              "      <td>2.787965e+09</td>\n",
              "    </tr>\n",
              "    <tr>\n",
              "      <th>runtime</th>\n",
              "      <td>4801.0</td>\n",
              "      <td>1.068759e+02</td>\n",
              "      <td>2.261193e+01</td>\n",
              "      <td>0.0</td>\n",
              "      <td>94.00000</td>\n",
              "      <td>1.030000e+02</td>\n",
              "      <td>1.180000e+02</td>\n",
              "      <td>3.380000e+02</td>\n",
              "    </tr>\n",
              "    <tr>\n",
              "      <th>vote_average</th>\n",
              "      <td>4803.0</td>\n",
              "      <td>6.092172e+00</td>\n",
              "      <td>1.194612e+00</td>\n",
              "      <td>0.0</td>\n",
              "      <td>5.60000</td>\n",
              "      <td>6.200000e+00</td>\n",
              "      <td>6.800000e+00</td>\n",
              "      <td>1.000000e+01</td>\n",
              "    </tr>\n",
              "    <tr>\n",
              "      <th>vote_count</th>\n",
              "      <td>4803.0</td>\n",
              "      <td>6.902180e+02</td>\n",
              "      <td>1.234586e+03</td>\n",
              "      <td>0.0</td>\n",
              "      <td>54.00000</td>\n",
              "      <td>2.350000e+02</td>\n",
              "      <td>7.370000e+02</td>\n",
              "      <td>1.375200e+04</td>\n",
              "    </tr>\n",
              "  </tbody>\n",
              "</table>\n",
              "</div>"
            ],
            "text/plain": [
              "               count          mean  ...           75%           max\n",
              "budget        4803.0  2.904504e+07  ...  4.000000e+07  3.800000e+08\n",
              "id            4803.0  5.716548e+04  ...  5.861050e+04  4.594880e+05\n",
              "popularity    4803.0  2.149230e+01  ...  2.831350e+01  8.755813e+02\n",
              "revenue       4803.0  8.226064e+07  ...  9.291719e+07  2.787965e+09\n",
              "runtime       4801.0  1.068759e+02  ...  1.180000e+02  3.380000e+02\n",
              "vote_average  4803.0  6.092172e+00  ...  6.800000e+00  1.000000e+01\n",
              "vote_count    4803.0  6.902180e+02  ...  7.370000e+02  1.375200e+04\n",
              "\n",
              "[7 rows x 8 columns]"
            ]
          },
          "metadata": {
            "tags": []
          },
          "execution_count": 8
        }
      ]
    },
    {
      "cell_type": "markdown",
      "metadata": {
        "id": "CpaM7fNR8iQt"
      },
      "source": [
        "Drop Unused Columns"
      ]
    },
    {
      "cell_type": "code",
      "metadata": {
        "id": "gu6s6rQB9MUZ"
      },
      "source": [
        "movies = movies.drop(columns=['keywords', 'release_date', 'production_companies', 'homepage'])"
      ],
      "execution_count": 9,
      "outputs": []
    },
    {
      "cell_type": "code",
      "metadata": {
        "colab": {
          "base_uri": "https://localhost:8080/",
          "height": 0
        },
        "id": "sD0-hwCp9QNp",
        "outputId": "d24a13ad-8812-4ef2-ba49-a1cf89ab663e"
      },
      "source": [
        "movies.info()"
      ],
      "execution_count": 10,
      "outputs": [
        {
          "output_type": "stream",
          "text": [
            "<class 'pandas.core.frame.DataFrame'>\n",
            "RangeIndex: 4803 entries, 0 to 4802\n",
            "Data columns (total 16 columns):\n",
            " #   Column                Non-Null Count  Dtype  \n",
            "---  ------                --------------  -----  \n",
            " 0   budget                4803 non-null   int64  \n",
            " 1   genres                4803 non-null   object \n",
            " 2   id                    4803 non-null   int64  \n",
            " 3   original_language     4803 non-null   object \n",
            " 4   original_title        4803 non-null   object \n",
            " 5   overview              4800 non-null   object \n",
            " 6   popularity            4803 non-null   float64\n",
            " 7   production_countries  4803 non-null   object \n",
            " 8   revenue               4803 non-null   int64  \n",
            " 9   runtime               4801 non-null   float64\n",
            " 10  spoken_languages      4803 non-null   object \n",
            " 11  status                4803 non-null   object \n",
            " 12  tagline               3959 non-null   object \n",
            " 13  title                 4803 non-null   object \n",
            " 14  vote_average          4803 non-null   float64\n",
            " 15  vote_count            4803 non-null   int64  \n",
            "dtypes: float64(3), int64(4), object(9)\n",
            "memory usage: 600.5+ KB\n"
          ],
          "name": "stdout"
        }
      ]
    },
    {
      "cell_type": "markdown",
      "metadata": {
        "id": "YVsp4sTXAMl7"
      },
      "source": [
        "# **Exploratory Analysis**"
      ]
    },
    {
      "cell_type": "markdown",
      "metadata": {
        "id": "6vuChy2p-3so"
      },
      "source": [
        "Authors who have published most Books"
      ]
    },
    {
      "cell_type": "code",
      "metadata": {
        "colab": {
          "base_uri": "https://localhost:8080/",
          "height": 359
        },
        "id": "zjdpLHt19dCj",
        "outputId": "dc75b0ef-b044-4f50-c6fa-eeffed2c6913"
      },
      "source": [
        "most_published_authors = books['authors'].value_counts()[:10]\n",
        "mostcounts = most_published_authors.reset_index()\n",
        "mostcounts"
      ],
      "execution_count": 17,
      "outputs": [
        {
          "output_type": "execute_result",
          "data": {
            "text/html": [
              "<div>\n",
              "<style scoped>\n",
              "    .dataframe tbody tr th:only-of-type {\n",
              "        vertical-align: middle;\n",
              "    }\n",
              "\n",
              "    .dataframe tbody tr th {\n",
              "        vertical-align: top;\n",
              "    }\n",
              "\n",
              "    .dataframe thead th {\n",
              "        text-align: right;\n",
              "    }\n",
              "</style>\n",
              "<table border=\"1\" class=\"dataframe\">\n",
              "  <thead>\n",
              "    <tr style=\"text-align: right;\">\n",
              "      <th></th>\n",
              "      <th>index</th>\n",
              "      <th>authors</th>\n",
              "    </tr>\n",
              "  </thead>\n",
              "  <tbody>\n",
              "    <tr>\n",
              "      <th>0</th>\n",
              "      <td>Agatha Christie</td>\n",
              "      <td>69</td>\n",
              "    </tr>\n",
              "    <tr>\n",
              "      <th>1</th>\n",
              "      <td>Stephen King</td>\n",
              "      <td>66</td>\n",
              "    </tr>\n",
              "    <tr>\n",
              "      <th>2</th>\n",
              "      <td>Orson Scott Card</td>\n",
              "      <td>48</td>\n",
              "    </tr>\n",
              "    <tr>\n",
              "      <th>3</th>\n",
              "      <td>Rumiko Takahashi</td>\n",
              "      <td>46</td>\n",
              "    </tr>\n",
              "    <tr>\n",
              "      <th>4</th>\n",
              "      <td>P.G. Wodehouse</td>\n",
              "      <td>42</td>\n",
              "    </tr>\n",
              "    <tr>\n",
              "      <th>5</th>\n",
              "      <td>Terry Brooks</td>\n",
              "      <td>40</td>\n",
              "    </tr>\n",
              "    <tr>\n",
              "      <th>6</th>\n",
              "      <td>Piers Anthony</td>\n",
              "      <td>34</td>\n",
              "    </tr>\n",
              "    <tr>\n",
              "      <th>7</th>\n",
              "      <td>Margaret Weis-Tracy Hickman</td>\n",
              "      <td>33</td>\n",
              "    </tr>\n",
              "    <tr>\n",
              "      <th>8</th>\n",
              "      <td>Dan Simmons</td>\n",
              "      <td>32</td>\n",
              "    </tr>\n",
              "    <tr>\n",
              "      <th>9</th>\n",
              "      <td>J.R.R. Tolkien</td>\n",
              "      <td>31</td>\n",
              "    </tr>\n",
              "  </tbody>\n",
              "</table>\n",
              "</div>"
            ],
            "text/plain": [
              "                         index  authors\n",
              "0              Agatha Christie       69\n",
              "1                 Stephen King       66\n",
              "2             Orson Scott Card       48\n",
              "3             Rumiko Takahashi       46\n",
              "4               P.G. Wodehouse       42\n",
              "5                 Terry Brooks       40\n",
              "6                Piers Anthony       34\n",
              "7  Margaret Weis-Tracy Hickman       33\n",
              "8                  Dan Simmons       32\n",
              "9               J.R.R. Tolkien       31"
            ]
          },
          "metadata": {
            "tags": []
          },
          "execution_count": 17
        }
      ]
    },
    {
      "cell_type": "markdown",
      "metadata": {
        "id": "mkTAejYECnN1"
      },
      "source": [
        "Highest Voted Movies"
      ]
    },
    {
      "cell_type": "code",
      "metadata": {
        "colab": {
          "base_uri": "https://localhost:8080/",
          "height": 359
        },
        "id": "73VN81qA-74F",
        "outputId": "71899a89-8b45-408e-b094-f32063e3ac29"
      },
      "source": [
        "highest_voted = movies.sort_values('vote_count', ascending=False)[:10]\n",
        "highest_voted_movies = highest_voted[['title', 'tagline', 'original_language', 'vote_count']]\n",
        "highest_voted_movies"
      ],
      "execution_count": 19,
      "outputs": [
        {
          "output_type": "execute_result",
          "data": {
            "text/html": [
              "<div>\n",
              "<style scoped>\n",
              "    .dataframe tbody tr th:only-of-type {\n",
              "        vertical-align: middle;\n",
              "    }\n",
              "\n",
              "    .dataframe tbody tr th {\n",
              "        vertical-align: top;\n",
              "    }\n",
              "\n",
              "    .dataframe thead th {\n",
              "        text-align: right;\n",
              "    }\n",
              "</style>\n",
              "<table border=\"1\" class=\"dataframe\">\n",
              "  <thead>\n",
              "    <tr style=\"text-align: right;\">\n",
              "      <th></th>\n",
              "      <th>title</th>\n",
              "      <th>tagline</th>\n",
              "      <th>original_language</th>\n",
              "      <th>vote_count</th>\n",
              "    </tr>\n",
              "  </thead>\n",
              "  <tbody>\n",
              "    <tr>\n",
              "      <th>96</th>\n",
              "      <td>Inception</td>\n",
              "      <td>Your mind is the scene of the crime.</td>\n",
              "      <td>en</td>\n",
              "      <td>13752</td>\n",
              "    </tr>\n",
              "    <tr>\n",
              "      <th>65</th>\n",
              "      <td>The Dark Knight</td>\n",
              "      <td>Why So Serious?</td>\n",
              "      <td>en</td>\n",
              "      <td>12002</td>\n",
              "    </tr>\n",
              "    <tr>\n",
              "      <th>0</th>\n",
              "      <td>Avatar</td>\n",
              "      <td>Enter the World of Pandora.</td>\n",
              "      <td>en</td>\n",
              "      <td>11800</td>\n",
              "    </tr>\n",
              "    <tr>\n",
              "      <th>16</th>\n",
              "      <td>The Avengers</td>\n",
              "      <td>Some assembly required.</td>\n",
              "      <td>en</td>\n",
              "      <td>11776</td>\n",
              "    </tr>\n",
              "    <tr>\n",
              "      <th>788</th>\n",
              "      <td>Deadpool</td>\n",
              "      <td>Witness the beginning of a happy ending</td>\n",
              "      <td>en</td>\n",
              "      <td>10995</td>\n",
              "    </tr>\n",
              "    <tr>\n",
              "      <th>95</th>\n",
              "      <td>Interstellar</td>\n",
              "      <td>Mankind was born on Earth. It was never meant ...</td>\n",
              "      <td>en</td>\n",
              "      <td>10867</td>\n",
              "    </tr>\n",
              "    <tr>\n",
              "      <th>287</th>\n",
              "      <td>Django Unchained</td>\n",
              "      <td>Life, liberty and the pursuit of vengeance.</td>\n",
              "      <td>en</td>\n",
              "      <td>10099</td>\n",
              "    </tr>\n",
              "    <tr>\n",
              "      <th>94</th>\n",
              "      <td>Guardians of the Galaxy</td>\n",
              "      <td>All heroes start somewhere.</td>\n",
              "      <td>en</td>\n",
              "      <td>9742</td>\n",
              "    </tr>\n",
              "    <tr>\n",
              "      <th>426</th>\n",
              "      <td>The Hunger Games</td>\n",
              "      <td>May The Odds Be Ever In Your Favor.</td>\n",
              "      <td>en</td>\n",
              "      <td>9455</td>\n",
              "    </tr>\n",
              "    <tr>\n",
              "      <th>127</th>\n",
              "      <td>Mad Max: Fury Road</td>\n",
              "      <td>What a Lovely Day.</td>\n",
              "      <td>en</td>\n",
              "      <td>9427</td>\n",
              "    </tr>\n",
              "  </tbody>\n",
              "</table>\n",
              "</div>"
            ],
            "text/plain": [
              "                       title  ... vote_count\n",
              "96                 Inception  ...      13752\n",
              "65           The Dark Knight  ...      12002\n",
              "0                     Avatar  ...      11800\n",
              "16              The Avengers  ...      11776\n",
              "788                 Deadpool  ...      10995\n",
              "95              Interstellar  ...      10867\n",
              "287         Django Unchained  ...      10099\n",
              "94   Guardians of the Galaxy  ...       9742\n",
              "426         The Hunger Games  ...       9455\n",
              "127       Mad Max: Fury Road  ...       9427\n",
              "\n",
              "[10 rows x 4 columns]"
            ]
          },
          "metadata": {
            "tags": []
          },
          "execution_count": 19
        }
      ]
    },
    {
      "cell_type": "markdown",
      "metadata": {
        "id": "SSz0NjNlDWv8"
      },
      "source": [
        " Highest Voted Movies with at least 10000 votes"
      ]
    },
    {
      "cell_type": "code",
      "metadata": {
        "colab": {
          "base_uri": "https://localhost:8080/",
          "height": 359
        },
        "id": "tirW0gnyCsTh",
        "outputId": "a172ee74-e7c0-43f3-b7af-90a074b797d7"
      },
      "source": [
        "highest_with_tt = highest_voted[highest_voted['vote_count'] >= 100][:10]\n",
        "highest_with_tt = highest_with_tt[['title', 'tagline', 'vote_count', 'genres']]\n",
        "\n",
        "fave_cols = highest_with_tt[['title', 'vote_count']]\n",
        "\n",
        "highest_with_tt"
      ],
      "execution_count": 21,
      "outputs": [
        {
          "output_type": "execute_result",
          "data": {
            "text/html": [
              "<div>\n",
              "<style scoped>\n",
              "    .dataframe tbody tr th:only-of-type {\n",
              "        vertical-align: middle;\n",
              "    }\n",
              "\n",
              "    .dataframe tbody tr th {\n",
              "        vertical-align: top;\n",
              "    }\n",
              "\n",
              "    .dataframe thead th {\n",
              "        text-align: right;\n",
              "    }\n",
              "</style>\n",
              "<table border=\"1\" class=\"dataframe\">\n",
              "  <thead>\n",
              "    <tr style=\"text-align: right;\">\n",
              "      <th></th>\n",
              "      <th>title</th>\n",
              "      <th>tagline</th>\n",
              "      <th>vote_count</th>\n",
              "      <th>genres</th>\n",
              "    </tr>\n",
              "  </thead>\n",
              "  <tbody>\n",
              "    <tr>\n",
              "      <th>96</th>\n",
              "      <td>Inception</td>\n",
              "      <td>Your mind is the scene of the crime.</td>\n",
              "      <td>13752</td>\n",
              "      <td>[{\"id\": 28, \"name\": \"Action\"}, {\"id\": 53, \"nam...</td>\n",
              "    </tr>\n",
              "    <tr>\n",
              "      <th>65</th>\n",
              "      <td>The Dark Knight</td>\n",
              "      <td>Why So Serious?</td>\n",
              "      <td>12002</td>\n",
              "      <td>[{\"id\": 18, \"name\": \"Drama\"}, {\"id\": 28, \"name...</td>\n",
              "    </tr>\n",
              "    <tr>\n",
              "      <th>0</th>\n",
              "      <td>Avatar</td>\n",
              "      <td>Enter the World of Pandora.</td>\n",
              "      <td>11800</td>\n",
              "      <td>[{\"id\": 28, \"name\": \"Action\"}, {\"id\": 12, \"nam...</td>\n",
              "    </tr>\n",
              "    <tr>\n",
              "      <th>16</th>\n",
              "      <td>The Avengers</td>\n",
              "      <td>Some assembly required.</td>\n",
              "      <td>11776</td>\n",
              "      <td>[{\"id\": 878, \"name\": \"Science Fiction\"}, {\"id\"...</td>\n",
              "    </tr>\n",
              "    <tr>\n",
              "      <th>788</th>\n",
              "      <td>Deadpool</td>\n",
              "      <td>Witness the beginning of a happy ending</td>\n",
              "      <td>10995</td>\n",
              "      <td>[{\"id\": 28, \"name\": \"Action\"}, {\"id\": 12, \"nam...</td>\n",
              "    </tr>\n",
              "    <tr>\n",
              "      <th>95</th>\n",
              "      <td>Interstellar</td>\n",
              "      <td>Mankind was born on Earth. It was never meant ...</td>\n",
              "      <td>10867</td>\n",
              "      <td>[{\"id\": 12, \"name\": \"Adventure\"}, {\"id\": 18, \"...</td>\n",
              "    </tr>\n",
              "    <tr>\n",
              "      <th>287</th>\n",
              "      <td>Django Unchained</td>\n",
              "      <td>Life, liberty and the pursuit of vengeance.</td>\n",
              "      <td>10099</td>\n",
              "      <td>[{\"id\": 18, \"name\": \"Drama\"}, {\"id\": 37, \"name...</td>\n",
              "    </tr>\n",
              "    <tr>\n",
              "      <th>94</th>\n",
              "      <td>Guardians of the Galaxy</td>\n",
              "      <td>All heroes start somewhere.</td>\n",
              "      <td>9742</td>\n",
              "      <td>[{\"id\": 28, \"name\": \"Action\"}, {\"id\": 878, \"na...</td>\n",
              "    </tr>\n",
              "    <tr>\n",
              "      <th>426</th>\n",
              "      <td>The Hunger Games</td>\n",
              "      <td>May The Odds Be Ever In Your Favor.</td>\n",
              "      <td>9455</td>\n",
              "      <td>[{\"id\": 878, \"name\": \"Science Fiction\"}, {\"id\"...</td>\n",
              "    </tr>\n",
              "    <tr>\n",
              "      <th>127</th>\n",
              "      <td>Mad Max: Fury Road</td>\n",
              "      <td>What a Lovely Day.</td>\n",
              "      <td>9427</td>\n",
              "      <td>[{\"id\": 28, \"name\": \"Action\"}, {\"id\": 12, \"nam...</td>\n",
              "    </tr>\n",
              "  </tbody>\n",
              "</table>\n",
              "</div>"
            ],
            "text/plain": [
              "                       title  ...                                             genres\n",
              "96                 Inception  ...  [{\"id\": 28, \"name\": \"Action\"}, {\"id\": 53, \"nam...\n",
              "65           The Dark Knight  ...  [{\"id\": 18, \"name\": \"Drama\"}, {\"id\": 28, \"name...\n",
              "0                     Avatar  ...  [{\"id\": 28, \"name\": \"Action\"}, {\"id\": 12, \"nam...\n",
              "16              The Avengers  ...  [{\"id\": 878, \"name\": \"Science Fiction\"}, {\"id\"...\n",
              "788                 Deadpool  ...  [{\"id\": 28, \"name\": \"Action\"}, {\"id\": 12, \"nam...\n",
              "95              Interstellar  ...  [{\"id\": 12, \"name\": \"Adventure\"}, {\"id\": 18, \"...\n",
              "287         Django Unchained  ...  [{\"id\": 18, \"name\": \"Drama\"}, {\"id\": 37, \"name...\n",
              "94   Guardians of the Galaxy  ...  [{\"id\": 28, \"name\": \"Action\"}, {\"id\": 878, \"na...\n",
              "426         The Hunger Games  ...  [{\"id\": 878, \"name\": \"Science Fiction\"}, {\"id\"...\n",
              "127       Mad Max: Fury Road  ...  [{\"id\": 28, \"name\": \"Action\"}, {\"id\": 12, \"nam...\n",
              "\n",
              "[10 rows x 4 columns]"
            ]
          },
          "metadata": {
            "tags": []
          },
          "execution_count": 21
        }
      ]
    },
    {
      "cell_type": "markdown",
      "metadata": {
        "id": "BvWPSRppD6JO"
      },
      "source": [
        "Authors who have published most Books"
      ]
    },
    {
      "cell_type": "code",
      "metadata": {
        "colab": {
          "base_uri": "https://localhost:8080/",
          "height": 372
        },
        "id": "M8DgaKIWD9s0",
        "outputId": "46a19456-8962-4b45-c290-6db40244b55f"
      },
      "source": [
        "authorplot = sns.barplot(x = 'index',y='authors', data=mostcounts, palette=\"pastel\")\n",
        "authorplot.set_xticklabels(authorplot.get_xticklabels(), rotation=40, ha=\"right\")\n",
        "authorplot.set(xlabel='Author', ylabel='Frequency')\n",
        "plt.show()"
      ],
      "execution_count": 24,
      "outputs": [
        {
          "output_type": "display_data",
          "data": {
            "image/png": "[encoded data removed]",
            "text/plain": [
              "<Figure size 432x288 with 1 Axes>"
            ]
          },
          "metadata": {
            "tags": [],
            "needs_background": "light"
          }
        }
      ]
    },
    {
      "cell_type": "markdown",
      "metadata": {
        "id": "Pm39a6vYfUnt"
      },
      "source": [
        "Highest Budget Movies"
      ]
    },
    {
      "cell_type": "code",
      "metadata": {
        "colab": {
          "base_uri": "https://localhost:8080/",
          "height": 417
        },
        "id": "pX_XfAWkfJvT",
        "outputId": "bc4e9ae5-8a40-4d04-bea3-af1b6ae6fdad"
      },
      "source": [
        "most_expensive_df = movies.sort_values('budget',ascending=False)[:10]\n",
        "\n",
        "most_expensive = most_expensive_df[['title', 'budget', 'revenue']]\n",
        "\n",
        "expensiveplot = sns.barplot(x = 'title',y='budget', data=most_expensive, palette=\"pastel\")\n",
        "expensiveplot.set_xticklabels(expensiveplot.get_xticklabels(), rotation=40, ha=\"right\")\n",
        "expensiveplot.set(xlabel='Movie', ylabel='Budget (in US dollars)')\n",
        "plt.ticklabel_format(style='plain', axis='y')\n",
        "plt.show()"
      ],
      "execution_count": 25,
      "outputs": [
        {
          "output_type": "display_data",
          "data": {
            "image/png": "[encoded data removed]",
            "text/plain": [
              "<Figure size 432x288 with 1 Axes>"
            ]
          },
          "metadata": {
            "tags": [],
            "needs_background": "light"
          }
        }
      ]
    },
    {
      "cell_type": "code",
      "metadata": {
        "colab": {
          "base_uri": "https://localhost:8080/",
          "height": 359
        },
        "id": "vFny4NI-EgFp",
        "outputId": "b4401889-2e5b-4dd4-f887-57b74fe01502"
      },
      "source": [
        "most_expensive"
      ],
      "execution_count": 26,
      "outputs": [
        {
          "output_type": "execute_result",
          "data": {
            "text/html": [
              "<div>\n",
              "<style scoped>\n",
              "    .dataframe tbody tr th:only-of-type {\n",
              "        vertical-align: middle;\n",
              "    }\n",
              "\n",
              "    .dataframe tbody tr th {\n",
              "        vertical-align: top;\n",
              "    }\n",
              "\n",
              "    .dataframe thead th {\n",
              "        text-align: right;\n",
              "    }\n",
              "</style>\n",
              "<table border=\"1\" class=\"dataframe\">\n",
              "  <thead>\n",
              "    <tr style=\"text-align: right;\">\n",
              "      <th></th>\n",
              "      <th>title</th>\n",
              "      <th>budget</th>\n",
              "      <th>revenue</th>\n",
              "    </tr>\n",
              "  </thead>\n",
              "  <tbody>\n",
              "    <tr>\n",
              "      <th>17</th>\n",
              "      <td>Pirates of the Caribbean: On Stranger Tides</td>\n",
              "      <td>380000000</td>\n",
              "      <td>1045713802</td>\n",
              "    </tr>\n",
              "    <tr>\n",
              "      <th>1</th>\n",
              "      <td>Pirates of the Caribbean: At World's End</td>\n",
              "      <td>300000000</td>\n",
              "      <td>961000000</td>\n",
              "    </tr>\n",
              "    <tr>\n",
              "      <th>7</th>\n",
              "      <td>Avengers: Age of Ultron</td>\n",
              "      <td>280000000</td>\n",
              "      <td>1405403694</td>\n",
              "    </tr>\n",
              "    <tr>\n",
              "      <th>10</th>\n",
              "      <td>Superman Returns</td>\n",
              "      <td>270000000</td>\n",
              "      <td>391081192</td>\n",
              "    </tr>\n",
              "    <tr>\n",
              "      <th>4</th>\n",
              "      <td>John Carter</td>\n",
              "      <td>260000000</td>\n",
              "      <td>284139100</td>\n",
              "    </tr>\n",
              "    <tr>\n",
              "      <th>6</th>\n",
              "      <td>Tangled</td>\n",
              "      <td>260000000</td>\n",
              "      <td>591794936</td>\n",
              "    </tr>\n",
              "    <tr>\n",
              "      <th>5</th>\n",
              "      <td>Spider-Man 3</td>\n",
              "      <td>258000000</td>\n",
              "      <td>890871626</td>\n",
              "    </tr>\n",
              "    <tr>\n",
              "      <th>13</th>\n",
              "      <td>The Lone Ranger</td>\n",
              "      <td>255000000</td>\n",
              "      <td>89289910</td>\n",
              "    </tr>\n",
              "    <tr>\n",
              "      <th>46</th>\n",
              "      <td>X-Men: Days of Future Past</td>\n",
              "      <td>250000000</td>\n",
              "      <td>747862775</td>\n",
              "    </tr>\n",
              "    <tr>\n",
              "      <th>22</th>\n",
              "      <td>The Hobbit: The Desolation of Smaug</td>\n",
              "      <td>250000000</td>\n",
              "      <td>958400000</td>\n",
              "    </tr>\n",
              "  </tbody>\n",
              "</table>\n",
              "</div>"
            ],
            "text/plain": [
              "                                          title     budget     revenue\n",
              "17  Pirates of the Caribbean: On Stranger Tides  380000000  1045713802\n",
              "1      Pirates of the Caribbean: At World's End  300000000   961000000\n",
              "7                       Avengers: Age of Ultron  280000000  1405403694\n",
              "10                             Superman Returns  270000000   391081192\n",
              "4                                   John Carter  260000000   284139100\n",
              "6                                       Tangled  260000000   591794936\n",
              "5                                  Spider-Man 3  258000000   890871626\n",
              "13                              The Lone Ranger  255000000    89289910\n",
              "46                   X-Men: Days of Future Past  250000000   747862775\n",
              "22          The Hobbit: The Desolation of Smaug  250000000   958400000"
            ]
          },
          "metadata": {
            "tags": []
          },
          "execution_count": 26
        }
      ]
    },
    {
      "cell_type": "markdown",
      "metadata": {
        "id": "ODZ8y0-PG_c8"
      },
      "source": [
        "Drop Duplicates"
      ]
    },
    {
      "cell_type": "code",
      "metadata": {
        "id": "Pa9vs56jHC8x"
      },
      "source": [
        "grab_duplicates = movies.sort_values('id', ascending=False).duplicated(['title'], keep = 'first')\n"
      ],
      "execution_count": 29,
      "outputs": []
    },
    {
      "cell_type": "code",
      "metadata": {
        "colab": {
          "base_uri": "https://localhost:8080/",
          "height": 0
        },
        "id": "hj_1FLhEIQ9B",
        "outputId": "d35dcd72-99d2-49df-ce72-527042afda80"
      },
      "source": [
        "movies = movies.drop(movies[grab_duplicates].index)\n",
        "movies.info()"
      ],
      "execution_count": 32,
      "outputs": [
        {
          "output_type": "stream",
          "text": [
            "<class 'pandas.core.frame.DataFrame'>\n",
            "Int64Index: 4800 entries, 0 to 4802\n",
            "Data columns (total 16 columns):\n",
            " #   Column                Non-Null Count  Dtype  \n",
            "---  ------                --------------  -----  \n",
            " 0   budget                4800 non-null   int64  \n",
            " 1   genres                4800 non-null   object \n",
            " 2   id                    4800 non-null   int64  \n",
            " 3   original_language     4800 non-null   object \n",
            " 4   original_title        4800 non-null   object \n",
            " 5   overview              4797 non-null   object \n",
            " 6   popularity            4800 non-null   float64\n",
            " 7   production_countries  4800 non-null   object \n",
            " 8   revenue               4800 non-null   int64  \n",
            " 9   runtime               4798 non-null   float64\n",
            " 10  spoken_languages      4800 non-null   object \n",
            " 11  status                4800 non-null   object \n",
            " 12  tagline               3956 non-null   object \n",
            " 13  title                 4800 non-null   object \n",
            " 14  vote_average          4800 non-null   float64\n",
            " 15  vote_count            4800 non-null   int64  \n",
            "dtypes: float64(3), int64(4), object(9)\n",
            "memory usage: 637.5+ KB\n"
          ],
          "name": "stdout"
        },
        {
          "output_type": "stream",
          "text": [
            "/usr/local/lib/python3.7/dist-packages/ipykernel_launcher.py:1: UserWarning: Boolean Series key will be reindexed to match DataFrame index.\n",
            "  \"\"\"Entry point for launching an IPython kernel.\n"
          ],
          "name": "stderr"
        }
      ]
    },
    {
      "cell_type": "markdown",
      "metadata": {
        "id": "t5nPrkubDJa_"
      },
      "source": [
        "# **Transformation and Merging**"
      ]
    },
    {
      "cell_type": "markdown",
      "metadata": {
        "id": "Jd5mJsSoOAM1"
      },
      "source": [
        "**find_matches()**\n",
        "\n",
        "This function makes use of the fuzzywuzzy library to do partial string matching, and returns all strings at least xx% the same as the input string"
      ]
    },
    {
      "cell_type": "code",
      "metadata": {
        "id": "Mm2Pbv2_N8CW"
      },
      "source": [
        "def find_matches(df, column, string_to_match, min_ratio):\n",
        "    # get a list of unique strings\n",
        "    strings = df[column].unique()\n",
        "    \n",
        "    # get the top 10 closest matches to our input string\n",
        "    matches = fuzzywuzzy.process.extract(string_to_match, strings, \n",
        "                                         limit=10, scorer=fuzzywuzzy.fuzz.token_sort_ratio)\n",
        "    #print('matches', matches)\n",
        "\n",
        "    # only get matches with a ratio > min_ratio\n",
        "    close_matches = [matches[0] for matches in matches if matches[1] >= min_ratio]\n",
        "    #print('close_matches',close_matches)\n",
        "    return close_matches\n"
      ],
      "execution_count": 33,
      "outputs": []
    },
    {
      "cell_type": "code",
      "metadata": {
        "id": "kTstJANqOP41"
      },
      "source": [
        "books_slice = books[0:3000].copy()\n",
        "movie_slice = movies[0:3000].copy()"
      ],
      "execution_count": 35,
      "outputs": []
    },
    {
      "cell_type": "markdown",
      "metadata": {
        "id": "UNahc1ErgSAE"
      },
      "source": [
        "Generator below enumerates through all titles to find possible matches. This brute force approach takes some time for the full datasets."
      ]
    },
    {
      "cell_type": "code",
      "metadata": {
        "colab": {
          "base_uri": "https://localhost:8080/",
          "height": 0
        },
        "id": "s-Qh3DjmgzCP",
        "outputId": "1b57cdfa-6503-4e6a-81fb-d7c1873b6426"
      },
      "source": [
        "!pip install fuzzywuzzy\n",
        "!pip install python-Levenshtein"
      ],
      "execution_count": 37,
      "outputs": [
        {
          "output_type": "stream",
          "text": [
            "Collecting fuzzywuzzy\n",
            "  Downloading https://files.pythonhosted.org/packages/43/ff/74f23998ad2f93b945c0309f825be92e04e0348e062026998b5eefef4c33/fuzzywuzzy-0.18.0-py2.py3-none-any.whl\n",
            "Installing collected packages: fuzzywuzzy\n",
            "Successfully installed fuzzywuzzy-0.18.0\n",
            "Collecting python-Levenshtein\n",
            "\u001b[?25l  Downloading https://files.pythonhosted.org/packages/2a/dc/97f2b63ef0fa1fd78dcb7195aca577804f6b2b51e712516cc0e902a9a201/python-Levenshtein-0.12.2.tar.gz (50kB)\n",
            "\u001b[K     |████████████████████████████████| 51kB 3.8MB/s \n",
            "\u001b[?25hRequirement already satisfied: setuptools in /usr/local/lib/python3.7/dist-packages (from python-Levenshtein) (56.1.0)\n",
            "Building wheels for collected packages: python-Levenshtein\n",
            "  Building wheel for python-Levenshtein (setup.py) ... \u001b[?25l\u001b[?25hdone\n",
            "  Created wheel for python-Levenshtein: filename=python_Levenshtein-0.12.2-cp37-cp37m-linux_x86_64.whl size=149810 sha256=baa4b66428b49b30b7a913405dc59b4605ceeb86ebb0bdae5ec646a8c656a922\n",
            "  Stored in directory: /root/.cache/pip/wheels/b3/26/73/4b48503bac73f01cf18e52cd250947049a7f339e940c5df8fc\n",
            "Successfully built python-Levenshtein\n",
            "Installing collected packages: python-Levenshtein\n",
            "Successfully installed python-Levenshtein-0.12.2\n"
          ],
          "name": "stdout"
        }
      ]
    },
    {
      "cell_type": "markdown",
      "metadata": {
        "id": "N_UTr2-UDtFn"
      },
      "source": [
        "Import FuzzyWuzzy Library\n",
        "\n",
        "FuzzyWuzzy is a library of Python which is used for string matching."
      ]
    },
    {
      "cell_type": "code",
      "metadata": {
        "id": "tuZ3f6BIg3RK"
      },
      "source": [
        "import fuzzywuzzy\n",
        "from fuzzywuzzy import process "
      ],
      "execution_count": 38,
      "outputs": []
    },
    {
      "cell_type": "markdown",
      "metadata": {
        "id": "u9uq0W2GkH9J"
      },
      "source": [
        "The Generator below enumerates through all titles to find possible matches. This brute force approach takes ~ minutes for the full datasets."
      ]
    },
    {
      "cell_type": "code",
      "metadata": {
        "id": "3HWmKJ4wgYZP"
      },
      "source": [
        "matches_dict = {}\n",
        "# smaller_book_section works\n",
        "for i in books['title']:\n",
        "  tmp = find_matches(movies, column='title', string_to_match=str(i),min_ratio=70)\n",
        "  if tmp != []:\n",
        "    matches_dict[i] = tmp\n",
        "\n",
        "same_names = pd.DataFrame.from_dict(matches_dict, orient='index')\n",
        "same_names = same_names.reset_index()\n",
        "same_names = same_names[['index',0]]\n",
        "same_names.columns = ['Book', 'Movie']\n",
        "\n",
        "#Same names show all of the book/movie title matches at an 80% threshold\n",
        "#same_names"
      ],
      "execution_count": 39,
      "outputs": []
    },
    {
      "cell_type": "markdown",
      "metadata": {
        "id": "c6UFnTkBOohX"
      },
      "source": [
        "Performing a second pass over one word titles, requiring a higher level of similarity to accept them as the same."
      ]
    },
    {
      "cell_type": "code",
      "metadata": {
        "id": "kEemHae8kS5l"
      },
      "source": [
        "one_word_titles = same_names[same_names['Book'].str.split().str.len() == 1]\n",
        "one_word_dict = {}\n",
        "for i in one_word_titles['Book']:\n",
        "  tmp = find_matches(one_word_titles, column='Movie', string_to_match=str(i),min_ratio=95)\n",
        "  if tmp != []:\n",
        "    one_word_dict[i] = tmp\n",
        "\n",
        "# one_word_dict shows all one word title book/movie matches at a 90% threshold\n",
        "one_word_dict\n",
        "one_word_df = pd.DataFrame.from_dict(one_word_dict, orient='index')\n",
        "one_word_df = one_word_df.reset_index()\n",
        "one_word_df\n",
        "\n",
        "\n",
        "one_word_df.columns = ['Book', 'Movie']\n",
        "#one_word_df"
      ],
      "execution_count": 40,
      "outputs": []
    },
    {
      "cell_type": "code",
      "metadata": {
        "id": "fl4HIiInkb7_"
      },
      "source": [
        "# grab more than one word titles\n",
        "same_names_no_ones = same_names[same_names['Book'].str.split().str.len() > 1]\n",
        "\n",
        "# combine highly likely one-word titles and more than one word titles\n",
        "same_names_final = pd.concat([same_names_no_ones, one_word_df],sort=True).reset_index(drop=True)\n",
        "\n",
        "\n",
        "# *********\n",
        "# Final title matched dataframe\n",
        "#same_names_final"
      ],
      "execution_count": 41,
      "outputs": []
    },
    {
      "cell_type": "code",
      "metadata": {
        "id": "7ol1SPEJkdl6"
      },
      "source": [
        "same_names_final = same_names_final.reset_index()\n"
      ],
      "execution_count": 42,
      "outputs": []
    },
    {
      "cell_type": "markdown",
      "metadata": {
        "id": "qFBn0oVwkkL-"
      },
      "source": [
        "Now, the same_names_final dataframe contains the partially string matched titles. If we want to do a pandas merge, they still will not merge with the same title. The easiest way to fix this is to simply set one of the titles to the other, so they are consistent"
      ]
    },
    {
      "cell_type": "code",
      "metadata": {
        "id": "qlSAzkbOksRS"
      },
      "source": [
        "#same_names_final\n",
        "for i in same_names_final['Book']:\n",
        "  movie = same_names_final[same_names_final['Book'] == i]['Movie'].iloc[0]\n",
        "\n",
        "  books.loc[books['title'] == i, 'title'] = movie\n",
        "  same_names_final.loc[same_names_final['Movie']== movie, 'Book'] = movie\n"
      ],
      "execution_count": 43,
      "outputs": []
    },
    {
      "cell_type": "code",
      "metadata": {
        "id": "sEX8bcmukz6v"
      },
      "source": [
        "book_to_list = same_names_final['Book'].tolist()\n",
        "movie_to_list = same_names_final['Movie'].tolist()\n",
        "\n",
        "get_matched_books = books[books['title'].isin(book_to_list)]\n",
        "get_matched_movies = movies[movies['title'].isin(movie_to_list)]"
      ],
      "execution_count": 44,
      "outputs": []
    },
    {
      "cell_type": "code",
      "metadata": {
        "colab": {
          "base_uri": "https://localhost:8080/",
          "height": 35
        },
        "id": "gWNS2V7uk31p",
        "outputId": "3ef8f775-efb6-4e56-daed-abb87a278bd3"
      },
      "source": [
        "# potentially unnecessary sorting step\n",
        "get_matched_movies.sort_values(by='title')\n",
        "get_matched_books.sort_values(by='title')\n",
        ";"
      ],
      "execution_count": 45,
      "outputs": [
        {
          "output_type": "execute_result",
          "data": {
            "application/vnd.google.colaboratory.intrinsic+json": {
              "type": "string"
            },
            "text/plain": [
              "''"
            ]
          },
          "metadata": {
            "tags": []
          },
          "execution_count": 45
        }
      ]
    },
    {
      "cell_type": "markdown",
      "metadata": {
        "id": "A1TMBIFxlAld"
      },
      "source": [
        "To Retrieve Merged String-matched Titles"
      ]
    },
    {
      "cell_type": "code",
      "metadata": {
        "id": "jZ00Q3d6k805"
      },
      "source": [
        "df = pd.merge(get_matched_books,get_matched_movies)\n"
      ],
      "execution_count": 46,
      "outputs": []
    },
    {
      "cell_type": "code",
      "metadata": {
        "colab": {
          "base_uri": "https://localhost:8080/",
          "height": 0
        },
        "id": "U8tGVxX-lH1V",
        "outputId": "879afc51-52d5-4b88-eb80-b4a8c2c36edf"
      },
      "source": [
        "df.info()"
      ],
      "execution_count": 47,
      "outputs": [
        {
          "output_type": "stream",
          "text": [
            "<class 'pandas.core.frame.DataFrame'>\n",
            "Int64Index: 1764 entries, 0 to 1763\n",
            "Data columns (total 25 columns):\n",
            " #   Column                Non-Null Count  Dtype  \n",
            "---  ------                --------------  -----  \n",
            " 0   bookID                1764 non-null   int64  \n",
            " 1   title                 1764 non-null   object \n",
            " 2   authors               1764 non-null   object \n",
            " 3   average_rating        1764 non-null   float64\n",
            " 4   isbn                  1764 non-null   object \n",
            " 5   isbn13                1764 non-null   int64  \n",
            " 6   language_code         1764 non-null   object \n",
            " 7   # num_pages           1764 non-null   int64  \n",
            " 8   ratings_count         1764 non-null   int64  \n",
            " 9   text_reviews_count    1764 non-null   int64  \n",
            " 10  budget                1764 non-null   int64  \n",
            " 11  genres                1764 non-null   object \n",
            " 12  id                    1764 non-null   int64  \n",
            " 13  original_language     1764 non-null   object \n",
            " 14  original_title        1764 non-null   object \n",
            " 15  overview              1764 non-null   object \n",
            " 16  popularity            1764 non-null   float64\n",
            " 17  production_countries  1764 non-null   object \n",
            " 18  revenue               1764 non-null   int64  \n",
            " 19  runtime               1764 non-null   float64\n",
            " 20  spoken_languages      1764 non-null   object \n",
            " 21  status                1764 non-null   object \n",
            " 22  tagline               1511 non-null   object \n",
            " 23  vote_average          1764 non-null   float64\n",
            " 24  vote_count            1764 non-null   int64  \n",
            "dtypes: float64(4), int64(9), object(12)\n",
            "memory usage: 358.3+ KB\n"
          ],
          "name": "stdout"
        }
      ]
    },
    {
      "cell_type": "code",
      "metadata": {
        "colab": {
          "base_uri": "https://localhost:8080/",
          "height": 666
        },
        "id": "4j7PmyxvlNYB",
        "outputId": "696300d4-bda5-4e9b-a6b6-edfb76b4253c"
      },
      "source": [
        "df.head(5)"
      ],
      "execution_count": 48,
      "outputs": [
        {
          "output_type": "execute_result",
          "data": {
            "text/html": [
              "<div>\n",
              "<style scoped>\n",
              "    .dataframe tbody tr th:only-of-type {\n",
              "        vertical-align: middle;\n",
              "    }\n",
              "\n",
              "    .dataframe tbody tr th {\n",
              "        vertical-align: top;\n",
              "    }\n",
              "\n",
              "    .dataframe thead th {\n",
              "        text-align: right;\n",
              "    }\n",
              "</style>\n",
              "<table border=\"1\" class=\"dataframe\">\n",
              "  <thead>\n",
              "    <tr style=\"text-align: right;\">\n",
              "      <th></th>\n",
              "      <th>bookID</th>\n",
              "      <th>title</th>\n",
              "      <th>authors</th>\n",
              "      <th>average_rating</th>\n",
              "      <th>isbn</th>\n",
              "      <th>isbn13</th>\n",
              "      <th>language_code</th>\n",
              "      <th># num_pages</th>\n",
              "      <th>ratings_count</th>\n",
              "      <th>text_reviews_count</th>\n",
              "      <th>budget</th>\n",
              "      <th>genres</th>\n",
              "      <th>id</th>\n",
              "      <th>original_language</th>\n",
              "      <th>original_title</th>\n",
              "      <th>overview</th>\n",
              "      <th>popularity</th>\n",
              "      <th>production_countries</th>\n",
              "      <th>revenue</th>\n",
              "      <th>runtime</th>\n",
              "      <th>spoken_languages</th>\n",
              "      <th>status</th>\n",
              "      <th>tagline</th>\n",
              "      <th>vote_average</th>\n",
              "      <th>vote_count</th>\n",
              "    </tr>\n",
              "  </thead>\n",
              "  <tbody>\n",
              "    <tr>\n",
              "      <th>0</th>\n",
              "      <td>1</td>\n",
              "      <td>Harry Potter and the Half-Blood Prince</td>\n",
              "      <td>J.K. Rowling-Mary GrandPré</td>\n",
              "      <td>4.56</td>\n",
              "      <td>0439785960</td>\n",
              "      <td>9780439785969</td>\n",
              "      <td>eng</td>\n",
              "      <td>652</td>\n",
              "      <td>1944099</td>\n",
              "      <td>26249</td>\n",
              "      <td>250000000</td>\n",
              "      <td>[{\"id\": 12, \"name\": \"Adventure\"}, {\"id\": 14, \"...</td>\n",
              "      <td>767</td>\n",
              "      <td>en</td>\n",
              "      <td>Harry Potter and the Half-Blood Prince</td>\n",
              "      <td>As Harry begins his sixth year at Hogwarts, he...</td>\n",
              "      <td>98.885637</td>\n",
              "      <td>[{\"iso_3166_1\": \"GB\", \"name\": \"United Kingdom\"...</td>\n",
              "      <td>933959197</td>\n",
              "      <td>153.0</td>\n",
              "      <td>[{\"iso_639_1\": \"en\", \"name\": \"English\"}]</td>\n",
              "      <td>Released</td>\n",
              "      <td>Dark Secrets Revealed</td>\n",
              "      <td>7.4</td>\n",
              "      <td>5293</td>\n",
              "    </tr>\n",
              "    <tr>\n",
              "      <th>1</th>\n",
              "      <td>2005</td>\n",
              "      <td>Harry Potter and the Half-Blood Prince</td>\n",
              "      <td>J.K. Rowling</td>\n",
              "      <td>4.56</td>\n",
              "      <td>0747584664</td>\n",
              "      <td>9780747584667</td>\n",
              "      <td>eng</td>\n",
              "      <td>768</td>\n",
              "      <td>1173</td>\n",
              "      <td>72</td>\n",
              "      <td>250000000</td>\n",
              "      <td>[{\"id\": 12, \"name\": \"Adventure\"}, {\"id\": 14, \"...</td>\n",
              "      <td>767</td>\n",
              "      <td>en</td>\n",
              "      <td>Harry Potter and the Half-Blood Prince</td>\n",
              "      <td>As Harry begins his sixth year at Hogwarts, he...</td>\n",
              "      <td>98.885637</td>\n",
              "      <td>[{\"iso_3166_1\": \"GB\", \"name\": \"United Kingdom\"...</td>\n",
              "      <td>933959197</td>\n",
              "      <td>153.0</td>\n",
              "      <td>[{\"iso_639_1\": \"en\", \"name\": \"English\"}]</td>\n",
              "      <td>Released</td>\n",
              "      <td>Dark Secrets Revealed</td>\n",
              "      <td>7.4</td>\n",
              "      <td>5293</td>\n",
              "    </tr>\n",
              "    <tr>\n",
              "      <th>2</th>\n",
              "      <td>2</td>\n",
              "      <td>Harry Potter and the Order of the Phoenix</td>\n",
              "      <td>J.K. Rowling-Mary GrandPré</td>\n",
              "      <td>4.49</td>\n",
              "      <td>0439358078</td>\n",
              "      <td>9780439358071</td>\n",
              "      <td>eng</td>\n",
              "      <td>870</td>\n",
              "      <td>1996446</td>\n",
              "      <td>27613</td>\n",
              "      <td>150000000</td>\n",
              "      <td>[{\"id\": 12, \"name\": \"Adventure\"}, {\"id\": 14, \"...</td>\n",
              "      <td>675</td>\n",
              "      <td>en</td>\n",
              "      <td>Harry Potter and the Order of the Phoenix</td>\n",
              "      <td>Returning for his fifth year of study at Hogwa...</td>\n",
              "      <td>78.144395</td>\n",
              "      <td>[{\"iso_3166_1\": \"GB\", \"name\": \"United Kingdom\"...</td>\n",
              "      <td>938212738</td>\n",
              "      <td>138.0</td>\n",
              "      <td>[{\"iso_639_1\": \"en\", \"name\": \"English\"}]</td>\n",
              "      <td>Released</td>\n",
              "      <td>Evil Must Be Confronted.</td>\n",
              "      <td>7.4</td>\n",
              "      <td>5494</td>\n",
              "    </tr>\n",
              "    <tr>\n",
              "      <th>3</th>\n",
              "      <td>3</td>\n",
              "      <td>Harry Potter and the Philosopher's Stone</td>\n",
              "      <td>J.K. Rowling-Mary GrandPré</td>\n",
              "      <td>4.47</td>\n",
              "      <td>0439554934</td>\n",
              "      <td>9780439554930</td>\n",
              "      <td>eng</td>\n",
              "      <td>320</td>\n",
              "      <td>5629932</td>\n",
              "      <td>70390</td>\n",
              "      <td>125000000</td>\n",
              "      <td>[{\"id\": 12, \"name\": \"Adventure\"}, {\"id\": 14, \"...</td>\n",
              "      <td>671</td>\n",
              "      <td>en</td>\n",
              "      <td>Harry Potter and the Philosopher's Stone</td>\n",
              "      <td>Harry Potter has lived under the stairs at his...</td>\n",
              "      <td>109.984351</td>\n",
              "      <td>[{\"iso_3166_1\": \"GB\", \"name\": \"United Kingdom\"...</td>\n",
              "      <td>976475550</td>\n",
              "      <td>152.0</td>\n",
              "      <td>[{\"iso_639_1\": \"en\", \"name\": \"English\"}]</td>\n",
              "      <td>Released</td>\n",
              "      <td>Let the Magic Begin.</td>\n",
              "      <td>7.5</td>\n",
              "      <td>7006</td>\n",
              "    </tr>\n",
              "    <tr>\n",
              "      <th>4</th>\n",
              "      <td>34318</td>\n",
              "      <td>Harry Potter and the Philosopher's Stone</td>\n",
              "      <td>J.K. Rowling-Mary GrandPré</td>\n",
              "      <td>4.47</td>\n",
              "      <td>0786222727</td>\n",
              "      <td>9780786222728</td>\n",
              "      <td>eng</td>\n",
              "      <td>424</td>\n",
              "      <td>132</td>\n",
              "      <td>12</td>\n",
              "      <td>125000000</td>\n",
              "      <td>[{\"id\": 12, \"name\": \"Adventure\"}, {\"id\": 14, \"...</td>\n",
              "      <td>671</td>\n",
              "      <td>en</td>\n",
              "      <td>Harry Potter and the Philosopher's Stone</td>\n",
              "      <td>Harry Potter has lived under the stairs at his...</td>\n",
              "      <td>109.984351</td>\n",
              "      <td>[{\"iso_3166_1\": \"GB\", \"name\": \"United Kingdom\"...</td>\n",
              "      <td>976475550</td>\n",
              "      <td>152.0</td>\n",
              "      <td>[{\"iso_639_1\": \"en\", \"name\": \"English\"}]</td>\n",
              "      <td>Released</td>\n",
              "      <td>Let the Magic Begin.</td>\n",
              "      <td>7.5</td>\n",
              "      <td>7006</td>\n",
              "    </tr>\n",
              "  </tbody>\n",
              "</table>\n",
              "</div>"
            ],
            "text/plain": [
              "   bookID                                      title  ... vote_average  vote_count\n",
              "0       1     Harry Potter and the Half-Blood Prince  ...          7.4        5293\n",
              "1    2005     Harry Potter and the Half-Blood Prince  ...          7.4        5293\n",
              "2       2  Harry Potter and the Order of the Phoenix  ...          7.4        5494\n",
              "3       3   Harry Potter and the Philosopher's Stone  ...          7.5        7006\n",
              "4   34318   Harry Potter and the Philosopher's Stone  ...          7.5        7006\n",
              "\n",
              "[5 rows x 25 columns]"
            ]
          },
          "metadata": {
            "tags": []
          },
          "execution_count": 48
        }
      ]
    },
    {
      "cell_type": "markdown",
      "metadata": {
        "id": "AeN59Vhplc6n"
      },
      "source": [
        "The 'authors' column includes foreward writers, translators etc. The first entry is always the actual author, so grab that and make an 'author' column."
      ]
    },
    {
      "cell_type": "code",
      "metadata": {
        "id": "K3mKvW17lfUd"
      },
      "source": [
        "grab = df['authors'].str.split('-')\n",
        "grab = grab.apply(lambda x: x[0])\n",
        "df['author'] = grab"
      ],
      "execution_count": 49,
      "outputs": []
    },
    {
      "cell_type": "code",
      "metadata": {
        "colab": {
          "base_uri": "https://localhost:8080/",
          "height": 452
        },
        "id": "XH4SjWs3lx3C",
        "outputId": "7a2b92ec-0d45-4300-83cc-9a5fdf07ba7c"
      },
      "source": [
        "df.describe().T"
      ],
      "execution_count": 50,
      "outputs": [
        {
          "output_type": "execute_result",
          "data": {
            "text/html": [
              "<div>\n",
              "<style scoped>\n",
              "    .dataframe tbody tr th:only-of-type {\n",
              "        vertical-align: middle;\n",
              "    }\n",
              "\n",
              "    .dataframe tbody tr th {\n",
              "        vertical-align: top;\n",
              "    }\n",
              "\n",
              "    .dataframe thead th {\n",
              "        text-align: right;\n",
              "    }\n",
              "</style>\n",
              "<table border=\"1\" class=\"dataframe\">\n",
              "  <thead>\n",
              "    <tr style=\"text-align: right;\">\n",
              "      <th></th>\n",
              "      <th>count</th>\n",
              "      <th>mean</th>\n",
              "      <th>std</th>\n",
              "      <th>min</th>\n",
              "      <th>25%</th>\n",
              "      <th>50%</th>\n",
              "      <th>75%</th>\n",
              "      <th>max</th>\n",
              "    </tr>\n",
              "  </thead>\n",
              "  <tbody>\n",
              "    <tr>\n",
              "      <th>bookID</th>\n",
              "      <td>1764.0</td>\n",
              "      <td>1.745092e+04</td>\n",
              "      <td>1.331586e+04</td>\n",
              "      <td>1.000000e+00</td>\n",
              "      <td>6.181750e+03</td>\n",
              "      <td>1.395150e+04</td>\n",
              "      <td>2.773450e+04</td>\n",
              "      <td>4.769500e+04</td>\n",
              "    </tr>\n",
              "    <tr>\n",
              "      <th>average_rating</th>\n",
              "      <td>1764.0</td>\n",
              "      <td>3.898628e+00</td>\n",
              "      <td>2.869606e-01</td>\n",
              "      <td>0.000000e+00</td>\n",
              "      <td>3.740000e+00</td>\n",
              "      <td>3.920000e+00</td>\n",
              "      <td>4.080000e+00</td>\n",
              "      <td>4.730000e+00</td>\n",
              "    </tr>\n",
              "    <tr>\n",
              "      <th>isbn13</th>\n",
              "      <td>1764.0</td>\n",
              "      <td>9.769652e+12</td>\n",
              "      <td>3.285047e+11</td>\n",
              "      <td>2.004913e+10</td>\n",
              "      <td>9.780312e+12</td>\n",
              "      <td>9.780452e+12</td>\n",
              "      <td>9.780768e+12</td>\n",
              "      <td>9.790008e+12</td>\n",
              "    </tr>\n",
              "    <tr>\n",
              "      <th># num_pages</th>\n",
              "      <td>1764.0</td>\n",
              "      <td>3.432642e+02</td>\n",
              "      <td>2.253955e+02</td>\n",
              "      <td>0.000000e+00</td>\n",
              "      <td>2.047500e+02</td>\n",
              "      <td>3.040000e+02</td>\n",
              "      <td>4.320000e+02</td>\n",
              "      <td>1.546000e+03</td>\n",
              "    </tr>\n",
              "    <tr>\n",
              "      <th>ratings_count</th>\n",
              "      <td>1764.0</td>\n",
              "      <td>4.968061e+04</td>\n",
              "      <td>2.292599e+05</td>\n",
              "      <td>0.000000e+00</td>\n",
              "      <td>1.977500e+02</td>\n",
              "      <td>1.373000e+03</td>\n",
              "      <td>1.072350e+04</td>\n",
              "      <td>5.629932e+06</td>\n",
              "    </tr>\n",
              "    <tr>\n",
              "      <th>text_reviews_count</th>\n",
              "      <td>1764.0</td>\n",
              "      <td>1.325159e+03</td>\n",
              "      <td>5.120308e+03</td>\n",
              "      <td>0.000000e+00</td>\n",
              "      <td>1.800000e+01</td>\n",
              "      <td>1.045000e+02</td>\n",
              "      <td>5.422500e+02</td>\n",
              "      <td>8.423700e+04</td>\n",
              "    </tr>\n",
              "    <tr>\n",
              "      <th>budget</th>\n",
              "      <td>1764.0</td>\n",
              "      <td>3.438737e+07</td>\n",
              "      <td>4.074682e+07</td>\n",
              "      <td>0.000000e+00</td>\n",
              "      <td>3.000000e+06</td>\n",
              "      <td>2.000000e+07</td>\n",
              "      <td>5.000000e+07</td>\n",
              "      <td>2.600000e+08</td>\n",
              "    </tr>\n",
              "    <tr>\n",
              "      <th>id</th>\n",
              "      <td>1764.0</td>\n",
              "      <td>4.834699e+04</td>\n",
              "      <td>8.420784e+04</td>\n",
              "      <td>1.800000e+01</td>\n",
              "      <td>4.476750e+03</td>\n",
              "      <td>1.138300e+04</td>\n",
              "      <td>4.372050e+04</td>\n",
              "      <td>4.025150e+05</td>\n",
              "    </tr>\n",
              "    <tr>\n",
              "      <th>popularity</th>\n",
              "      <td>1764.0</td>\n",
              "      <td>2.423483e+01</td>\n",
              "      <td>2.588397e+01</td>\n",
              "      <td>1.586000e-03</td>\n",
              "      <td>6.908351e+00</td>\n",
              "      <td>1.700210e+01</td>\n",
              "      <td>3.336930e+01</td>\n",
              "      <td>2.719729e+02</td>\n",
              "    </tr>\n",
              "    <tr>\n",
              "      <th>revenue</th>\n",
              "      <td>1764.0</td>\n",
              "      <td>9.597562e+07</td>\n",
              "      <td>1.653264e+08</td>\n",
              "      <td>0.000000e+00</td>\n",
              "      <td>1.566892e+05</td>\n",
              "      <td>3.205940e+07</td>\n",
              "      <td>1.171393e+08</td>\n",
              "      <td>1.519558e+09</td>\n",
              "    </tr>\n",
              "    <tr>\n",
              "      <th>runtime</th>\n",
              "      <td>1764.0</td>\n",
              "      <td>1.130890e+02</td>\n",
              "      <td>2.419203e+01</td>\n",
              "      <td>0.000000e+00</td>\n",
              "      <td>9.700000e+01</td>\n",
              "      <td>1.090000e+02</td>\n",
              "      <td>1.260000e+02</td>\n",
              "      <td>2.760000e+02</td>\n",
              "    </tr>\n",
              "    <tr>\n",
              "      <th>vote_average</th>\n",
              "      <td>1764.0</td>\n",
              "      <td>6.292971e+00</td>\n",
              "      <td>1.060007e+00</td>\n",
              "      <td>0.000000e+00</td>\n",
              "      <td>5.800000e+00</td>\n",
              "      <td>6.400000e+00</td>\n",
              "      <td>7.000000e+00</td>\n",
              "      <td>8.500000e+00</td>\n",
              "    </tr>\n",
              "    <tr>\n",
              "      <th>vote_count</th>\n",
              "      <td>1764.0</td>\n",
              "      <td>8.211168e+02</td>\n",
              "      <td>1.390131e+03</td>\n",
              "      <td>0.000000e+00</td>\n",
              "      <td>8.975000e+01</td>\n",
              "      <td>3.380000e+02</td>\n",
              "      <td>9.100000e+02</td>\n",
              "      <td>1.200200e+04</td>\n",
              "    </tr>\n",
              "  </tbody>\n",
              "</table>\n",
              "</div>"
            ],
            "text/plain": [
              "                     count          mean  ...           75%           max\n",
              "bookID              1764.0  1.745092e+04  ...  2.773450e+04  4.769500e+04\n",
              "average_rating      1764.0  3.898628e+00  ...  4.080000e+00  4.730000e+00\n",
              "isbn13              1764.0  9.769652e+12  ...  9.780768e+12  9.790008e+12\n",
              "# num_pages         1764.0  3.432642e+02  ...  4.320000e+02  1.546000e+03\n",
              "ratings_count       1764.0  4.968061e+04  ...  1.072350e+04  5.629932e+06\n",
              "text_reviews_count  1764.0  1.325159e+03  ...  5.422500e+02  8.423700e+04\n",
              "budget              1764.0  3.438737e+07  ...  5.000000e+07  2.600000e+08\n",
              "id                  1764.0  4.834699e+04  ...  4.372050e+04  4.025150e+05\n",
              "popularity          1764.0  2.423483e+01  ...  3.336930e+01  2.719729e+02\n",
              "revenue             1764.0  9.597562e+07  ...  1.171393e+08  1.519558e+09\n",
              "runtime             1764.0  1.130890e+02  ...  1.260000e+02  2.760000e+02\n",
              "vote_average        1764.0  6.292971e+00  ...  7.000000e+00  8.500000e+00\n",
              "vote_count          1764.0  8.211168e+02  ...  9.100000e+02  1.200200e+04\n",
              "\n",
              "[13 rows x 8 columns]"
            ]
          },
          "metadata": {
            "tags": []
          },
          "execution_count": 50
        }
      ]
    },
    {
      "cell_type": "markdown",
      "metadata": {
        "id": "Fyf-d75Il4uU"
      },
      "source": [
        "Return uniques in order of appearance"
      ]
    },
    {
      "cell_type": "code",
      "metadata": {
        "colab": {
          "base_uri": "https://localhost:8080/",
          "height": 0
        },
        "id": "a5Q3c6TOl0m8",
        "outputId": "1ce4a96a-8e3a-41d0-dc6a-f58992c2907c"
      },
      "source": [
        "df['title'].unique()"
      ],
      "execution_count": 51,
      "outputs": [
        {
          "output_type": "execute_result",
          "data": {
            "text/plain": [
              "array(['Harry Potter and the Half-Blood Prince',\n",
              "       'Harry Potter and the Order of the Phoenix',\n",
              "       \"Harry Potter and the Philosopher's Stone\", ..., 'Point Break',\n",
              "       'Cinderella Man', 'Blue Valentine'], dtype=object)"
            ]
          },
          "metadata": {
            "tags": []
          },
          "execution_count": 51
        }
      ]
    },
    {
      "cell_type": "markdown",
      "metadata": {
        "id": "ZB2ARKUgpHur"
      },
      "source": [
        "We have the books which have movies, we grab those that don't, store in datafraem called just_books"
      ]
    },
    {
      "cell_type": "code",
      "metadata": {
        "id": "rkwu2egeoJEi"
      },
      "source": [
        "just_books = books[~books['title'].isin(df['title'])]\n",
        "just_movies = movies[~movies['title'].isin(df['title'])]\n",
        "books['Made into movie'] = books['title'].isin(df['title'])"
      ],
      "execution_count": 53,
      "outputs": []
    },
    {
      "cell_type": "code",
      "metadata": {
        "id": "aPUeNWhYoMYZ"
      },
      "source": [
        "just_books = just_books.rename(columns={'average_rating': 'book_rating'})\n"
      ],
      "execution_count": 54,
      "outputs": []
    },
    {
      "cell_type": "code",
      "metadata": {
        "colab": {
          "base_uri": "https://localhost:8080/",
          "height": 334
        },
        "id": "1pQQRkRyoPmq",
        "outputId": "ee779196-1fb7-4a78-9182-d924e5f6a4a6"
      },
      "source": [
        "just_books.describe()\n",
        "df.describe()"
      ],
      "execution_count": 55,
      "outputs": [
        {
          "output_type": "execute_result",
          "data": {
            "text/html": [
              "<div>\n",
              "<style scoped>\n",
              "    .dataframe tbody tr th:only-of-type {\n",
              "        vertical-align: middle;\n",
              "    }\n",
              "\n",
              "    .dataframe tbody tr th {\n",
              "        vertical-align: top;\n",
              "    }\n",
              "\n",
              "    .dataframe thead th {\n",
              "        text-align: right;\n",
              "    }\n",
              "</style>\n",
              "<table border=\"1\" class=\"dataframe\">\n",
              "  <thead>\n",
              "    <tr style=\"text-align: right;\">\n",
              "      <th></th>\n",
              "      <th>bookID</th>\n",
              "      <th>average_rating</th>\n",
              "      <th>isbn13</th>\n",
              "      <th># num_pages</th>\n",
              "      <th>ratings_count</th>\n",
              "      <th>text_reviews_count</th>\n",
              "      <th>budget</th>\n",
              "      <th>id</th>\n",
              "      <th>popularity</th>\n",
              "      <th>revenue</th>\n",
              "      <th>runtime</th>\n",
              "      <th>vote_average</th>\n",
              "      <th>vote_count</th>\n",
              "    </tr>\n",
              "  </thead>\n",
              "  <tbody>\n",
              "    <tr>\n",
              "      <th>count</th>\n",
              "      <td>1764.000000</td>\n",
              "      <td>1764.000000</td>\n",
              "      <td>1.764000e+03</td>\n",
              "      <td>1764.000000</td>\n",
              "      <td>1.764000e+03</td>\n",
              "      <td>1764.000000</td>\n",
              "      <td>1.764000e+03</td>\n",
              "      <td>1764.000000</td>\n",
              "      <td>1764.000000</td>\n",
              "      <td>1.764000e+03</td>\n",
              "      <td>1764.000000</td>\n",
              "      <td>1764.000000</td>\n",
              "      <td>1764.000000</td>\n",
              "    </tr>\n",
              "    <tr>\n",
              "      <th>mean</th>\n",
              "      <td>17450.918934</td>\n",
              "      <td>3.898628</td>\n",
              "      <td>9.769652e+12</td>\n",
              "      <td>343.264172</td>\n",
              "      <td>4.968061e+04</td>\n",
              "      <td>1325.159297</td>\n",
              "      <td>3.438737e+07</td>\n",
              "      <td>48346.990363</td>\n",
              "      <td>24.234830</td>\n",
              "      <td>9.597562e+07</td>\n",
              "      <td>113.089002</td>\n",
              "      <td>6.292971</td>\n",
              "      <td>821.116780</td>\n",
              "    </tr>\n",
              "    <tr>\n",
              "      <th>std</th>\n",
              "      <td>13315.863540</td>\n",
              "      <td>0.286961</td>\n",
              "      <td>3.285047e+11</td>\n",
              "      <td>225.395470</td>\n",
              "      <td>2.292599e+05</td>\n",
              "      <td>5120.308236</td>\n",
              "      <td>4.074682e+07</td>\n",
              "      <td>84207.844621</td>\n",
              "      <td>25.883965</td>\n",
              "      <td>1.653264e+08</td>\n",
              "      <td>24.192026</td>\n",
              "      <td>1.060007</td>\n",
              "      <td>1390.131388</td>\n",
              "    </tr>\n",
              "    <tr>\n",
              "      <th>min</th>\n",
              "      <td>1.000000</td>\n",
              "      <td>0.000000</td>\n",
              "      <td>2.004913e+10</td>\n",
              "      <td>0.000000</td>\n",
              "      <td>0.000000e+00</td>\n",
              "      <td>0.000000</td>\n",
              "      <td>0.000000e+00</td>\n",
              "      <td>18.000000</td>\n",
              "      <td>0.001586</td>\n",
              "      <td>0.000000e+00</td>\n",
              "      <td>0.000000</td>\n",
              "      <td>0.000000</td>\n",
              "      <td>0.000000</td>\n",
              "    </tr>\n",
              "    <tr>\n",
              "      <th>25%</th>\n",
              "      <td>6181.750000</td>\n",
              "      <td>3.740000</td>\n",
              "      <td>9.780312e+12</td>\n",
              "      <td>204.750000</td>\n",
              "      <td>1.977500e+02</td>\n",
              "      <td>18.000000</td>\n",
              "      <td>3.000000e+06</td>\n",
              "      <td>4476.750000</td>\n",
              "      <td>6.908351</td>\n",
              "      <td>1.566892e+05</td>\n",
              "      <td>97.000000</td>\n",
              "      <td>5.800000</td>\n",
              "      <td>89.750000</td>\n",
              "    </tr>\n",
              "    <tr>\n",
              "      <th>50%</th>\n",
              "      <td>13951.500000</td>\n",
              "      <td>3.920000</td>\n",
              "      <td>9.780452e+12</td>\n",
              "      <td>304.000000</td>\n",
              "      <td>1.373000e+03</td>\n",
              "      <td>104.500000</td>\n",
              "      <td>2.000000e+07</td>\n",
              "      <td>11383.000000</td>\n",
              "      <td>17.002096</td>\n",
              "      <td>3.205940e+07</td>\n",
              "      <td>109.000000</td>\n",
              "      <td>6.400000</td>\n",
              "      <td>338.000000</td>\n",
              "    </tr>\n",
              "    <tr>\n",
              "      <th>75%</th>\n",
              "      <td>27734.500000</td>\n",
              "      <td>4.080000</td>\n",
              "      <td>9.780768e+12</td>\n",
              "      <td>432.000000</td>\n",
              "      <td>1.072350e+04</td>\n",
              "      <td>542.250000</td>\n",
              "      <td>5.000000e+07</td>\n",
              "      <td>43720.500000</td>\n",
              "      <td>33.369305</td>\n",
              "      <td>1.171393e+08</td>\n",
              "      <td>126.000000</td>\n",
              "      <td>7.000000</td>\n",
              "      <td>910.000000</td>\n",
              "    </tr>\n",
              "    <tr>\n",
              "      <th>max</th>\n",
              "      <td>47695.000000</td>\n",
              "      <td>4.730000</td>\n",
              "      <td>9.790008e+12</td>\n",
              "      <td>1546.000000</td>\n",
              "      <td>5.629932e+06</td>\n",
              "      <td>84237.000000</td>\n",
              "      <td>2.600000e+08</td>\n",
              "      <td>402515.000000</td>\n",
              "      <td>271.972889</td>\n",
              "      <td>1.519558e+09</td>\n",
              "      <td>276.000000</td>\n",
              "      <td>8.500000</td>\n",
              "      <td>12002.000000</td>\n",
              "    </tr>\n",
              "  </tbody>\n",
              "</table>\n",
              "</div>"
            ],
            "text/plain": [
              "             bookID  average_rating  ...  vote_average    vote_count\n",
              "count   1764.000000     1764.000000  ...   1764.000000   1764.000000\n",
              "mean   17450.918934        3.898628  ...      6.292971    821.116780\n",
              "std    13315.863540        0.286961  ...      1.060007   1390.131388\n",
              "min        1.000000        0.000000  ...      0.000000      0.000000\n",
              "25%     6181.750000        3.740000  ...      5.800000     89.750000\n",
              "50%    13951.500000        3.920000  ...      6.400000    338.000000\n",
              "75%    27734.500000        4.080000  ...      7.000000    910.000000\n",
              "max    47695.000000        4.730000  ...      8.500000  12002.000000\n",
              "\n",
              "[8 rows x 13 columns]"
            ]
          },
          "metadata": {
            "tags": []
          },
          "execution_count": 55
        }
      ]
    },
    {
      "cell_type": "markdown",
      "metadata": {
        "id": "hcK2qdkDni_P"
      },
      "source": [
        "# **Combining**"
      ]
    },
    {
      "cell_type": "markdown",
      "metadata": {
        "id": "_VBrhBJSnxdZ"
      },
      "source": [
        "Books on Goodreads are rated out out of 5.\n",
        "\n",
        "Movies on IMDb are rated out of 10\n",
        "\n",
        "In comparing a book+movie combination it would make sense to have a total rating that fairly weighs the two scores. For now I am multiplying the book rating by 2, adding it to the movie score, dividing the total by 2.\n",
        "\n",
        "Combined Rating of Books and Movies"
      ]
    },
    {
      "cell_type": "code",
      "metadata": {
        "colab": {
          "base_uri": "https://localhost:8080/",
          "height": 376
        },
        "id": "GD05LUoUnssz",
        "outputId": "144ab0fb-5ed8-4d69-cd7f-9f9e8a34311b"
      },
      "source": [
        "df['Combined Rating'] = ((df['average_rating'] * 2)  + df['vote_average']) / 2\n",
        "print('Highest combined rating')\n",
        "df.sort_values('Combined Rating', ascending=False)[:10][['title','Combined Rating']]"
      ],
      "execution_count": 57,
      "outputs": [
        {
          "output_type": "stream",
          "text": [
            "Highest combined rating\n"
          ],
          "name": "stdout"
        },
        {
          "output_type": "execute_result",
          "data": {
            "text/html": [
              "<div>\n",
              "<style scoped>\n",
              "    .dataframe tbody tr th:only-of-type {\n",
              "        vertical-align: middle;\n",
              "    }\n",
              "\n",
              "    .dataframe tbody tr th {\n",
              "        vertical-align: top;\n",
              "    }\n",
              "\n",
              "    .dataframe thead th {\n",
              "        text-align: right;\n",
              "    }\n",
              "</style>\n",
              "<table border=\"1\" class=\"dataframe\">\n",
              "  <thead>\n",
              "    <tr style=\"text-align: right;\">\n",
              "      <th></th>\n",
              "      <th>title</th>\n",
              "      <th>Combined Rating</th>\n",
              "    </tr>\n",
              "  </thead>\n",
              "  <tbody>\n",
              "    <tr>\n",
              "      <th>1646</th>\n",
              "      <td>The Shawshank Redemption</td>\n",
              "      <td>8.67</td>\n",
              "    </tr>\n",
              "    <tr>\n",
              "      <th>624</th>\n",
              "      <td>Howl's Moving Castle</td>\n",
              "      <td>8.61</td>\n",
              "    </tr>\n",
              "    <tr>\n",
              "      <th>1296</th>\n",
              "      <td>The Godfather</td>\n",
              "      <td>8.57</td>\n",
              "    </tr>\n",
              "    <tr>\n",
              "      <th>1295</th>\n",
              "      <td>The Godfather</td>\n",
              "      <td>8.57</td>\n",
              "    </tr>\n",
              "    <tr>\n",
              "      <th>943</th>\n",
              "      <td>The Green Mile</td>\n",
              "      <td>8.54</td>\n",
              "    </tr>\n",
              "    <tr>\n",
              "      <th>19</th>\n",
              "      <td>The Lord of the Rings: The Two Towers</td>\n",
              "      <td>8.53</td>\n",
              "    </tr>\n",
              "    <tr>\n",
              "      <th>695</th>\n",
              "      <td>The Lord of the Rings: The Return of the King</td>\n",
              "      <td>8.51</td>\n",
              "    </tr>\n",
              "    <tr>\n",
              "      <th>343</th>\n",
              "      <td>The Empire Strikes Back</td>\n",
              "      <td>8.50</td>\n",
              "    </tr>\n",
              "    <tr>\n",
              "      <th>16</th>\n",
              "      <td>The Lord of the Rings: The Fellowship of the Ring</td>\n",
              "      <td>8.49</td>\n",
              "    </tr>\n",
              "    <tr>\n",
              "      <th>14</th>\n",
              "      <td>The Lord of the Rings: The Fellowship of the Ring</td>\n",
              "      <td>8.49</td>\n",
              "    </tr>\n",
              "  </tbody>\n",
              "</table>\n",
              "</div>"
            ],
            "text/plain": [
              "                                                  title  Combined Rating\n",
              "1646                           The Shawshank Redemption             8.67\n",
              "624                                Howl's Moving Castle             8.61\n",
              "1296                                      The Godfather             8.57\n",
              "1295                                      The Godfather             8.57\n",
              "943                                      The Green Mile             8.54\n",
              "19                The Lord of the Rings: The Two Towers             8.53\n",
              "695       The Lord of the Rings: The Return of the King             8.51\n",
              "343                             The Empire Strikes Back             8.50\n",
              "16    The Lord of the Rings: The Fellowship of the Ring             8.49\n",
              "14    The Lord of the Rings: The Fellowship of the Ring             8.49"
            ]
          },
          "metadata": {
            "tags": []
          },
          "execution_count": 57
        }
      ]
    },
    {
      "cell_type": "code",
      "metadata": {
        "colab": {
          "base_uri": "https://localhost:8080/",
          "height": 376
        },
        "id": "k0lbzImIpqWl",
        "outputId": "7905dea3-82aa-4b24-c131-143d6edd553c"
      },
      "source": [
        "print('Lowest combined rating')\n",
        "df.sort_values('Combined Rating', ascending=True)[:10][['title','Combined Rating']]"
      ],
      "execution_count": 58,
      "outputs": [
        {
          "output_type": "stream",
          "text": [
            "Lowest combined rating\n"
          ],
          "name": "stdout"
        },
        {
          "output_type": "execute_result",
          "data": {
            "text/html": [
              "<div>\n",
              "<style scoped>\n",
              "    .dataframe tbody tr th:only-of-type {\n",
              "        vertical-align: middle;\n",
              "    }\n",
              "\n",
              "    .dataframe tbody tr th {\n",
              "        vertical-align: top;\n",
              "    }\n",
              "\n",
              "    .dataframe thead th {\n",
              "        text-align: right;\n",
              "    }\n",
              "</style>\n",
              "<table border=\"1\" class=\"dataframe\">\n",
              "  <thead>\n",
              "    <tr style=\"text-align: right;\">\n",
              "      <th></th>\n",
              "      <th>title</th>\n",
              "      <th>Combined Rating</th>\n",
              "    </tr>\n",
              "  </thead>\n",
              "  <tbody>\n",
              "    <tr>\n",
              "      <th>241</th>\n",
              "      <td>House at the End of the Drive</td>\n",
              "      <td>3.08</td>\n",
              "    </tr>\n",
              "    <tr>\n",
              "      <th>1106</th>\n",
              "      <td>American Pie</td>\n",
              "      <td>3.20</td>\n",
              "    </tr>\n",
              "    <tr>\n",
              "      <th>788</th>\n",
              "      <td>The Secret</td>\n",
              "      <td>3.22</td>\n",
              "    </tr>\n",
              "    <tr>\n",
              "      <th>1683</th>\n",
              "      <td>The Big Swap</td>\n",
              "      <td>3.52</td>\n",
              "    </tr>\n",
              "    <tr>\n",
              "      <th>1740</th>\n",
              "      <td>Butterfly Girl</td>\n",
              "      <td>3.72</td>\n",
              "    </tr>\n",
              "    <tr>\n",
              "      <th>299</th>\n",
              "      <td>The Sound and the Shadow</td>\n",
              "      <td>3.80</td>\n",
              "    </tr>\n",
              "    <tr>\n",
              "      <th>1077</th>\n",
              "      <td>The Blade of Don Juan</td>\n",
              "      <td>3.82</td>\n",
              "    </tr>\n",
              "    <tr>\n",
              "      <th>998</th>\n",
              "      <td>An American in Hollywood</td>\n",
              "      <td>3.91</td>\n",
              "    </tr>\n",
              "    <tr>\n",
              "      <th>974</th>\n",
              "      <td>The Algerian</td>\n",
              "      <td>4.01</td>\n",
              "    </tr>\n",
              "    <tr>\n",
              "      <th>1091</th>\n",
              "      <td>Queen of the Mountains</td>\n",
              "      <td>4.05</td>\n",
              "    </tr>\n",
              "  </tbody>\n",
              "</table>\n",
              "</div>"
            ],
            "text/plain": [
              "                              title  Combined Rating\n",
              "241   House at the End of the Drive             3.08\n",
              "1106                   American Pie             3.20\n",
              "788                      The Secret             3.22\n",
              "1683                   The Big Swap             3.52\n",
              "1740                 Butterfly Girl             3.72\n",
              "299        The Sound and the Shadow             3.80\n",
              "1077          The Blade of Don Juan             3.82\n",
              "998        An American in Hollywood             3.91\n",
              "974                    The Algerian             4.01\n",
              "1091         Queen of the Mountains             4.05"
            ]
          },
          "metadata": {
            "tags": []
          },
          "execution_count": 58
        }
      ]
    },
    {
      "cell_type": "markdown",
      "metadata": {
        "id": "itdPtQ8REoC6"
      },
      "source": [
        "# **Graph Plotting**"
      ]
    },
    {
      "cell_type": "markdown",
      "metadata": {
        "id": "HBRc7UYepxVb"
      },
      "source": [
        "**Histogram**\n",
        "\n",
        "A histogram is a representation of the distribution of data. This function calls matplotlib.pyplot.hist(), on each series in the DataFrame, resulting in one histogram per column."
      ]
    },
    {
      "cell_type": "code",
      "metadata": {
        "colab": {
          "base_uri": "https://localhost:8080/",
          "height": 265
        },
        "id": "kwxXKYZ9pust",
        "outputId": "6a42e630-872b-47ad-9645-414d0eceb0d9"
      },
      "source": [
        "df['Combined Rating'].hist()\n",
        "plt.ylabel('Combined Rating')\n",
        "plt.show()"
      ],
      "execution_count": 59,
      "outputs": [
        {
          "output_type": "display_data",
          "data": {
            "image/png": "[encoded data removed]",
            "text/plain": [
              "<Figure size 432x288 with 1 Axes>"
            ]
          },
          "metadata": {
            "tags": [],
            "needs_background": "light"
          }
        }
      ]
    },
    {
      "cell_type": "markdown",
      "metadata": {
        "id": "NBFNKQJEs-3N"
      },
      "source": [
        "**Distribution Plot**\n",
        "\n",
        "This function provides access to several approaches for visualizing the univariate or bivariate distribution of data, including subsets of data defined by semantic mapping and faceting across multiple subplots. "
      ]
    },
    {
      "cell_type": "code",
      "metadata": {
        "colab": {
          "base_uri": "https://localhost:8080/",
          "height": 350
        },
        "id": "Ya6oybmdqBJr",
        "outputId": "b5a01263-2b4f-4c16-b3f4-5cb43386b30a"
      },
      "source": [
        "sns.distplot(df['Combined Rating'])"
      ],
      "execution_count": 60,
      "outputs": [
        {
          "output_type": "stream",
          "text": [
            "/usr/local/lib/python3.7/dist-packages/seaborn/distributions.py:2557: FutureWarning: `distplot` is a deprecated function and will be removed in a future version. Please adapt your code to use either `displot` (a figure-level function with similar flexibility) or `histplot` (an axes-level function for histograms).\n",
            "  warnings.warn(msg, FutureWarning)\n"
          ],
          "name": "stderr"
        },
        {
          "output_type": "execute_result",
          "data": {
            "text/plain": [
              "<matplotlib.axes._subplots.AxesSubplot at 0x7fa5836c0090>"
            ]
          },
          "metadata": {
            "tags": []
          },
          "execution_count": 60
        },
        {
          "output_type": "display_data",
          "data": {
            "image/png": "[encoded data removed]",
            "text/plain": [
              "<Figure size 432x288 with 1 Axes>"
            ]
          },
          "metadata": {
            "tags": [],
            "needs_background": "light"
          }
        }
      ]
    },
    {
      "cell_type": "markdown",
      "metadata": {
        "id": "90tZOk8JsAQ3"
      },
      "source": [
        "**Probability Plot**\n",
        "\n",
        "Calculates a best-fit line for the data"
      ]
    },
    {
      "cell_type": "code",
      "metadata": {
        "id": "uBT25WKjqhCD"
      },
      "source": [
        "from scipy import stats\n"
      ],
      "execution_count": 63,
      "outputs": []
    },
    {
      "cell_type": "code",
      "metadata": {
        "id": "xm30c291rCJJ"
      },
      "source": [
        "diff = df['average_rating'] - just_books['book_rating']"
      ],
      "execution_count": 64,
      "outputs": []
    },
    {
      "cell_type": "code",
      "metadata": {
        "colab": {
          "base_uri": "https://localhost:8080/",
          "height": 363
        },
        "id": "lfuJnD8xrMbg",
        "outputId": "9ae6aa3a-0a05-40b3-eefc-300b7f6c71cd"
      },
      "source": [
        "stats.probplot(diff, plot= plt)\n"
      ],
      "execution_count": 65,
      "outputs": [
        {
          "output_type": "execute_result",
          "data": {
            "text/plain": [
              "((array([-3.86205207, -3.6397285 , -3.51780011, ...,  3.51780011,\n",
              "          3.6397285 ,  3.86205207]),\n",
              "  array([-3.71, -1.31, -1.29, ...,   nan,   nan,   nan])),\n",
              " (nan, nan, nan))"
            ]
          },
          "metadata": {
            "tags": []
          },
          "execution_count": 65
        },
        {
          "output_type": "display_data",
          "data": {
            "image/png": "[encoded data removed]",
            "text/plain": [
              "<Figure size 432x288 with 1 Axes>"
            ]
          },
          "metadata": {
            "tags": [],
            "needs_background": "light"
          }
        }
      ]
    },
    {
      "cell_type": "markdown",
      "metadata": {
        "id": "OkctkMVUGV2b"
      },
      "source": [
        "# **Linear Regression**"
      ]
    },
    {
      "cell_type": "markdown",
      "metadata": {
        "id": "Q9DavvnztfLq"
      },
      "source": [
        "Linear regression to predict movie votes"
      ]
    },
    {
      "cell_type": "code",
      "metadata": {
        "colab": {
          "base_uri": "https://localhost:8080/",
          "height": 0
        },
        "id": "ElAOKhA9tUON",
        "outputId": "fc1ad0ab-fae1-49cb-a122-333453b76be5"
      },
      "source": [
        "df.corr()['vote_average'].abs().sort_values(ascending=False)"
      ],
      "execution_count": 67,
      "outputs": [
        {
          "output_type": "execute_result",
          "data": {
            "text/plain": [
              "vote_average          1.000000\n",
              "Combined Rating       0.893789\n",
              "runtime               0.418294\n",
              "popularity            0.408998\n",
              "vote_count            0.391046\n",
              "id                    0.284305\n",
              "revenue               0.251908\n",
              "average_rating        0.129226\n",
              "ratings_count         0.079229\n",
              "text_reviews_count    0.076841\n",
              "budget                0.068474\n",
              "bookID                0.019299\n",
              "isbn13                0.012841\n",
              "# num_pages           0.006795\n",
              "Name: vote_average, dtype: float64"
            ]
          },
          "metadata": {
            "tags": []
          },
          "execution_count": 67
        }
      ]
    },
    {
      "cell_type": "code",
      "metadata": {
        "id": "WUCdu_DUthqg"
      },
      "source": [
        "from sklearn.linear_model import LinearRegression"
      ],
      "execution_count": 68,
      "outputs": []
    },
    {
      "cell_type": "code",
      "metadata": {
        "id": "FvqeGg17tni4"
      },
      "source": [
        "# to predict combined rating\n",
        "features = df[['average_rating', 'ratings_count', '# num_pages', 'text_reviews_count']].values.reshape(-1,4)\n",
        "outcome = df['vote_average'].values.reshape(-1,1)"
      ],
      "execution_count": 71,
      "outputs": []
    },
    {
      "cell_type": "markdown",
      "metadata": {
        "id": "Ugs3I1m65_7A"
      },
      "source": [
        "Below regression line has the equation:\n",
        "\n",
        "movie_rating = 1.005 + 1.40book_rating + 4.63e-08ratings_count + 8.52e-05#num_pages + -7,24e-07text_reviews_count."
      ]
    },
    {
      "cell_type": "code",
      "metadata": {
        "colab": {
          "base_uri": "https://localhost:8080/",
          "height": 0
        },
        "id": "1VSfGRhUt2Qd",
        "outputId": "14849604-10a5-49f5-f412-14bd2d8aa105"
      },
      "source": [
        "from sklearn.model_selection import train_test_split \n",
        "# 80% of data train, 20% to test\n",
        "X_train, X_test, y_train, y_test = train_test_split(features, outcome, test_size=0.2, random_state=0)\n",
        "\n",
        "movie_rating_regression = LinearRegression().fit(X_train, y_train)\n",
        "\n",
        "print('intercept', movie_rating_regression.intercept_)\n",
        "print('coefficient', movie_rating_regression.coef_)"
      ],
      "execution_count": 72,
      "outputs": [
        {
          "output_type": "stream",
          "text": [
            "intercept [4.60339491]\n",
            "coefficient [[ 4.45304381e-01  8.97769324e-08 -1.85438042e-04  1.11748176e-05]]\n"
          ],
          "name": "stdout"
        }
      ]
    },
    {
      "cell_type": "markdown",
      "metadata": {
        "id": "_OqFz_KE6OL0"
      },
      "source": [
        "Compare Predictions to the Actual Value"
      ]
    },
    {
      "cell_type": "code",
      "metadata": {
        "colab": {
          "base_uri": "https://localhost:8080/",
          "height": 419
        },
        "id": "ZUQ01zRAt8KM",
        "outputId": "16d32a42-85a6-4b46-d20a-0cfccf79eefb"
      },
      "source": [
        "y_pred = movie_rating_regression.predict(X_test)\n",
        "\n",
        "regression_test = pd.DataFrame({'Actual': y_test.flatten(), 'Predicted': y_pred.flatten()})\n",
        "regression_test"
      ],
      "execution_count": 73,
      "outputs": [
        {
          "output_type": "execute_result",
          "data": {
            "text/html": [
              "<div>\n",
              "<style scoped>\n",
              "    .dataframe tbody tr th:only-of-type {\n",
              "        vertical-align: middle;\n",
              "    }\n",
              "\n",
              "    .dataframe tbody tr th {\n",
              "        vertical-align: top;\n",
              "    }\n",
              "\n",
              "    .dataframe thead th {\n",
              "        text-align: right;\n",
              "    }\n",
              "</style>\n",
              "<table border=\"1\" class=\"dataframe\">\n",
              "  <thead>\n",
              "    <tr style=\"text-align: right;\">\n",
              "      <th></th>\n",
              "      <th>Actual</th>\n",
              "      <th>Predicted</th>\n",
              "    </tr>\n",
              "  </thead>\n",
              "  <tbody>\n",
              "    <tr>\n",
              "      <th>0</th>\n",
              "      <td>4.8</td>\n",
              "      <td>6.361510</td>\n",
              "    </tr>\n",
              "    <tr>\n",
              "      <th>1</th>\n",
              "      <td>7.6</td>\n",
              "      <td>6.306494</td>\n",
              "    </tr>\n",
              "    <tr>\n",
              "      <th>2</th>\n",
              "      <td>5.2</td>\n",
              "      <td>6.152361</td>\n",
              "    </tr>\n",
              "    <tr>\n",
              "      <th>3</th>\n",
              "      <td>5.4</td>\n",
              "      <td>6.200863</td>\n",
              "    </tr>\n",
              "    <tr>\n",
              "      <th>4</th>\n",
              "      <td>6.1</td>\n",
              "      <td>6.302075</td>\n",
              "    </tr>\n",
              "    <tr>\n",
              "      <th>...</th>\n",
              "      <td>...</td>\n",
              "      <td>...</td>\n",
              "    </tr>\n",
              "    <tr>\n",
              "      <th>348</th>\n",
              "      <td>4.8</td>\n",
              "      <td>6.405996</td>\n",
              "    </tr>\n",
              "    <tr>\n",
              "      <th>349</th>\n",
              "      <td>5.4</td>\n",
              "      <td>6.273142</td>\n",
              "    </tr>\n",
              "    <tr>\n",
              "      <th>350</th>\n",
              "      <td>5.9</td>\n",
              "      <td>6.244403</td>\n",
              "    </tr>\n",
              "    <tr>\n",
              "      <th>351</th>\n",
              "      <td>7.3</td>\n",
              "      <td>6.453090</td>\n",
              "    </tr>\n",
              "    <tr>\n",
              "      <th>352</th>\n",
              "      <td>6.3</td>\n",
              "      <td>6.322971</td>\n",
              "    </tr>\n",
              "  </tbody>\n",
              "</table>\n",
              "<p>353 rows × 2 columns</p>\n",
              "</div>"
            ],
            "text/plain": [
              "     Actual  Predicted\n",
              "0       4.8   6.361510\n",
              "1       7.6   6.306494\n",
              "2       5.2   6.152361\n",
              "3       5.4   6.200863\n",
              "4       6.1   6.302075\n",
              "..      ...        ...\n",
              "348     4.8   6.405996\n",
              "349     5.4   6.273142\n",
              "350     5.9   6.244403\n",
              "351     7.3   6.453090\n",
              "352     6.3   6.322971\n",
              "\n",
              "[353 rows x 2 columns]"
            ]
          },
          "metadata": {
            "tags": []
          },
          "execution_count": 73
        }
      ]
    },
    {
      "cell_type": "markdown",
      "metadata": {
        "id": "4kOP89jSG5Hp"
      },
      "source": [
        "**Bar Plot**\n",
        "\n",
        "A bar plot is a plot that presents categorical data with rectangular bars with lengths proportional to the values that they represent. A bar plot shows comparisons among discrete categories. One axis of the plot shows the specific categories being compared, and the other axis represents a measured value."
      ]
    },
    {
      "cell_type": "code",
      "metadata": {
        "colab": {
          "base_uri": "https://localhost:8080/",
          "height": 594
        },
        "id": "2eKkGgHvuCTK",
        "outputId": "4c94dad2-7284-4f3b-b060-0f079ba06281"
      },
      "source": [
        "regression_test_plot = regression_test.head(25)\n",
        "regression_test_plot.plot(kind='bar',figsize=(16,10))\n",
        "plt.grid(which='major', linestyle='-', linewidth='0.5', color='green')\n",
        "plt.grid(which='minor', linestyle=':', linewidth='0.5', color='black')\n",
        "plt.show()"
      ],
      "execution_count": 74,
      "outputs": [
        {
          "output_type": "display_data",
          "data": {
            "image/png": "[encoded data removed]",
            "text/plain": [
              "<Figure size 1152x720 with 1 Axes>"
            ]
          },
          "metadata": {
            "tags": [],
            "needs_background": "light"
          }
        }
      ]
    },
    {
      "cell_type": "code",
      "metadata": {
        "id": "7WTMaJYpHsUg"
      },
      "source": [
        ""
      ],
      "execution_count": null,
      "outputs": []
    },
    {
      "cell_type": "markdown",
      "metadata": {
        "id": "yr_1pitH6ovu"
      },
      "source": [
        "**Scatter Plot**\n",
        "\n",
        "This kind of plot is useful to see complex correlations between two variables."
      ]
    },
    {
      "cell_type": "markdown",
      "metadata": {
        "id": "irlsnhkv6l_I"
      },
      "source": [
        "Regression line plotted against the data"
      ]
    },
    {
      "cell_type": "code",
      "metadata": {
        "colab": {
          "base_uri": "https://localhost:8080/",
          "height": 265
        },
        "id": "fwBkLFsT6a1M",
        "outputId": "7e545c67-aa78-4722-bc2d-791422738a0d"
      },
      "source": [
        "plt.scatter(X_test[:,0], y_test,  color='gray')\n",
        "plt.plot(X_test[:,0], y_pred, color='purple', linewidth=1)\n",
        "plt.show()"
      ],
      "execution_count": 79,
      "outputs": [
        {
          "output_type": "display_data",
          "data": {
            "image/png": "[encoded data removed]",
            "text/plain": [
              "<Figure size 432x288 with 1 Axes>"
            ]
          },
          "metadata": {
            "tags": [],
            "needs_background": "light"
          }
        }
      ]
    },
    {
      "cell_type": "markdown",
      "metadata": {
        "id": "3KqRD8pa7v6t"
      },
      "source": [
        "**Relational Plot**\n",
        "\n",
        "This provides access to several different axes-level functions that show the relationship between two variables with semantic mappings of subsets"
      ]
    },
    {
      "cell_type": "markdown",
      "metadata": {
        "id": "viaj48D175W-"
      },
      "source": [
        "To plot Books that are made into Movies"
      ]
    },
    {
      "cell_type": "code",
      "metadata": {
        "colab": {
          "base_uri": "https://localhost:8080/",
          "height": 388
        },
        "id": "SnKddhDN7mJE",
        "outputId": "bb8494a0-fb84-4665-c3ad-70d2fdcf5829"
      },
      "source": [
        "sns.relplot(x='ratings_count', y='text_reviews_count', hue = 'Made into movie', data = books)"
      ],
      "execution_count": 80,
      "outputs": [
        {
          "output_type": "execute_result",
          "data": {
            "text/plain": [
              "<seaborn.axisgrid.FacetGrid at 0x7fa5801ef2d0>"
            ]
          },
          "metadata": {
            "tags": []
          },
          "execution_count": 80
        },
        {
          "output_type": "display_data",
          "data": {
            "image/png": "[encoded data removed]",
            "text/plain": [
              "<Figure size 451.125x360 with 1 Axes>"
            ]
          },
          "metadata": {
            "tags": [],
            "needs_background": "light"
          }
        }
      ]
    },
    {
      "cell_type": "markdown",
      "metadata": {
        "id": "r2RgKSYdH1ZI"
      },
      "source": [
        "# **Conclusion**\n",
        "\n",
        "This project achieved the following goals:\n",
        "\n",
        "1.   Merged the Goodreads books and IMDb Movie datasets from Kaggle.\n",
        "2.   Identified a subset of things which are both books and movies, for use in future analysis.\n",
        "3.   Found that being made into a movie is not proof of a higher average rating for books or movies.\n",
        "4.   Used linear regression to predict a movie score from features of a book.\n",
        "5.   Used logistic regression to predict whether a book was likely to be made into a movie.\n",
        "\n",
        "\n",
        "\n",
        "\n",
        "\n",
        "\n",
        "\n"
      ]
    }
  ]
}